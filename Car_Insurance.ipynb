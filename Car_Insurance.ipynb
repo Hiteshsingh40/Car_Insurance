{
 "cells": [
  {
   "cell_type": "code",
   "execution_count": 2,
   "metadata": {
    "id": "a2_javv87DSk"
   },
   "outputs": [],
   "source": [
    "# Importing some essential library\n",
    "import pandas as pd\n",
    "import numpy as np\n",
    "import seaborn as sns\n",
    "import matplotlib.pyplot as plt\n",
    "\n",
    "# Importing warnings\n",
    "import warnings\n",
    "warnings.filterwarnings('ignore')"
   ]
  },
  {
   "cell_type": "code",
   "execution_count": 3,
   "metadata": {
    "id": "Gl-3CiLQ9-jF"
   },
   "outputs": [],
   "source": [
    "# Uploading the dataset\n",
    "df=pd.read_csv('/content/drive/MyDrive/customer-data.csv')"
   ]
  },
  {
   "cell_type": "code",
   "execution_count": 4,
   "metadata": {
    "colab": {
     "base_uri": "https://localhost:8080/"
    },
    "id": "3kOFt7f9-e5e",
    "outputId": "0bf09aa0-1ced-442e-80c2-3b8e590e7f5c"
   },
   "outputs": [
    {
     "name": "stdout",
     "output_type": "stream",
     "text": [
      "No. of rows =  10000\n",
      "No. of columns =  19\n"
     ]
    }
   ],
   "source": [
    "#  No. of Rows and No. of columns\n",
    "print(\"No. of rows = \", df.shape[0])\n",
    "print(\"No. of columns = \", df.shape[1])"
   ]
  },
  {
   "cell_type": "code",
   "execution_count": 5,
   "metadata": {
    "colab": {
     "base_uri": "https://localhost:8080/"
    },
    "id": "sFLalB6C-tPV",
    "outputId": "be0b3036-3619-46c2-fa2b-cdeb30d0398a"
   },
   "outputs": [
    {
     "name": "stdout",
     "output_type": "stream",
     "text": [
      "<class 'pandas.core.frame.DataFrame'>\n",
      "RangeIndex: 10000 entries, 0 to 9999\n",
      "Data columns (total 19 columns):\n",
      " #   Column               Non-Null Count  Dtype  \n",
      "---  ------               --------------  -----  \n",
      " 0   id                   10000 non-null  int64  \n",
      " 1   age                  10000 non-null  object \n",
      " 2   gender               10000 non-null  object \n",
      " 3   race                 10000 non-null  object \n",
      " 4   driving_experience   10000 non-null  object \n",
      " 5   education            10000 non-null  object \n",
      " 6   income               10000 non-null  object \n",
      " 7   credit_score         9018 non-null   float64\n",
      " 8   vehicle_ownership    10000 non-null  bool   \n",
      " 9   vehicle_year         10000 non-null  object \n",
      " 10  married              10000 non-null  bool   \n",
      " 11  children             10000 non-null  bool   \n",
      " 12  postal_code          10000 non-null  int64  \n",
      " 13  annual_mileage       9043 non-null   float64\n",
      " 14  vehicle_type         10000 non-null  object \n",
      " 15  speeding_violations  10000 non-null  int64  \n",
      " 16  DUIs                 10000 non-null  int64  \n",
      " 17  past_accidents       10000 non-null  int64  \n",
      " 18  outcome              10000 non-null  bool   \n",
      "dtypes: bool(4), float64(2), int64(5), object(8)\n",
      "memory usage: 1.2+ MB\n",
      "None\n"
     ]
    }
   ],
   "source": [
    "#  Information about data types of each column\n",
    "print(df.info())"
   ]
  },
  {
   "cell_type": "code",
   "execution_count": 6,
   "metadata": {
    "id": "ZQS8iy_U-wQo"
   },
   "outputs": [],
   "source": [
    "# to change use .astype() \n",
    "df['vehicle_ownership'] = df.vehicle_ownership.astype(int)"
   ]
  },
  {
   "cell_type": "code",
   "execution_count": 7,
   "metadata": {
    "id": "t3scL_bG-1z3"
   },
   "outputs": [],
   "source": [
    "# to change use .astype() \n",
    "df['married'] = df.married.astype(int)"
   ]
  },
  {
   "cell_type": "code",
   "execution_count": 8,
   "metadata": {
    "id": "gep_OkvB-4ud"
   },
   "outputs": [],
   "source": [
    "# to change use .astype() \n",
    "df['children'] = df.children.astype(int)"
   ]
  },
  {
   "cell_type": "code",
   "execution_count": 9,
   "metadata": {
    "id": "_i8k7mAk-7jO"
   },
   "outputs": [],
   "source": [
    "# to change use .astype() \n",
    "df['outcome'] = df.outcome.astype(int)"
   ]
  },
  {
   "cell_type": "code",
   "execution_count": 10,
   "metadata": {
    "colab": {
     "base_uri": "https://localhost:8080/"
    },
    "id": "non0InS9-_UQ",
    "outputId": "bf46ff30-3443-438f-c0de-bb9ae96ca99a"
   },
   "outputs": [
    {
     "name": "stdout",
     "output_type": "stream",
     "text": [
      "<class 'pandas.core.frame.DataFrame'>\n",
      "RangeIndex: 10000 entries, 0 to 9999\n",
      "Data columns (total 19 columns):\n",
      " #   Column               Non-Null Count  Dtype  \n",
      "---  ------               --------------  -----  \n",
      " 0   id                   10000 non-null  int64  \n",
      " 1   age                  10000 non-null  object \n",
      " 2   gender               10000 non-null  object \n",
      " 3   race                 10000 non-null  object \n",
      " 4   driving_experience   10000 non-null  object \n",
      " 5   education            10000 non-null  object \n",
      " 6   income               10000 non-null  object \n",
      " 7   credit_score         9018 non-null   float64\n",
      " 8   vehicle_ownership    10000 non-null  int64  \n",
      " 9   vehicle_year         10000 non-null  object \n",
      " 10  married              10000 non-null  int64  \n",
      " 11  children             10000 non-null  int64  \n",
      " 12  postal_code          10000 non-null  int64  \n",
      " 13  annual_mileage       9043 non-null   float64\n",
      " 14  vehicle_type         10000 non-null  object \n",
      " 15  speeding_violations  10000 non-null  int64  \n",
      " 16  DUIs                 10000 non-null  int64  \n",
      " 17  past_accidents       10000 non-null  int64  \n",
      " 18  outcome              10000 non-null  int64  \n",
      "dtypes: float64(2), int64(9), object(8)\n",
      "memory usage: 1.4+ MB\n"
     ]
    }
   ],
   "source": [
    "df.info()"
   ]
  },
  {
   "cell_type": "code",
   "execution_count": 11,
   "metadata": {
    "colab": {
     "base_uri": "https://localhost:8080/"
    },
    "id": "lfbMYrTd_DLB",
    "outputId": "1c192816-afb9-48ff-86b5-076100726696"
   },
   "outputs": [
    {
     "name": "stdout",
     "output_type": "stream",
     "text": [
      "Columns having missing values are as follows:\n",
      "credit_score\n",
      "annual_mileage\n"
     ]
    }
   ],
   "source": [
    "# Columns having missing values\n",
    "print('Columns having missing values are as follows:')\n",
    "for i in df.isnull().any().index:\n",
    "    if (df.isnull().any()[i]):\n",
    "        print(i)"
   ]
  },
  {
   "cell_type": "code",
   "execution_count": 12,
   "metadata": {
    "colab": {
     "base_uri": "https://localhost:8080/"
    },
    "id": "8kU434rT_IkD",
    "outputId": "43364e23-2689-44cf-eea5-af8019392b18"
   },
   "outputs": [
    {
     "name": "stdout",
     "output_type": "stream",
     "text": [
      "Number of missing values in each column:\n",
      "id                       0\n",
      "age                      0\n",
      "gender                   0\n",
      "race                     0\n",
      "driving_experience       0\n",
      "education                0\n",
      "income                   0\n",
      "credit_score           982\n",
      "vehicle_ownership        0\n",
      "vehicle_year             0\n",
      "married                  0\n",
      "children                 0\n",
      "postal_code              0\n",
      "annual_mileage         957\n",
      "vehicle_type             0\n",
      "speeding_violations      0\n",
      "DUIs                     0\n",
      "past_accidents           0\n",
      "outcome                  0\n",
      "dtype: int64\n",
      "\n",
      "Percentage of missing values in each column:\n",
      "id                      0.0\n",
      "age                     0.0\n",
      "gender                  0.0\n",
      "race                    0.0\n",
      "driving_experience      0.0\n",
      "education               0.0\n",
      "income                  0.0\n",
      "credit_score           10.0\n",
      "vehicle_ownership       0.0\n",
      "vehicle_year            0.0\n",
      "married                 0.0\n",
      "children                0.0\n",
      "postal_code             0.0\n",
      "annual_mileage         10.0\n",
      "vehicle_type            0.0\n",
      "speeding_violations     0.0\n",
      "DUIs                    0.0\n",
      "past_accidents          0.0\n",
      "outcome                 0.0\n",
      "dtype: float64 2\n"
     ]
    }
   ],
   "source": [
    "#  Number of missing values and their percentage in each column\n",
    "print(\"Number of missing values in each column:\")\n",
    "print(df.isnull().sum())\n",
    "print('\\nPercentage of missing values in each column:')\n",
    "print(round(100*df.isnull().sum()/len(df.index)),2)"
   ]
  },
  {
   "cell_type": "code",
   "execution_count": 13,
   "metadata": {
    "colab": {
     "base_uri": "https://localhost:8080/",
     "height": 410
    },
    "id": "Nq0D3bc5_Mas",
    "outputId": "d5d45acd-d48a-4bca-bd74-84b18351ec03"
   },
   "outputs": [
    {
     "data": {
      "text/html": [
       "<div>\n",
       "<style scoped>\n",
       "    .dataframe tbody tr th:only-of-type {\n",
       "        vertical-align: middle;\n",
       "    }\n",
       "\n",
       "    .dataframe tbody tr th {\n",
       "        vertical-align: top;\n",
       "    }\n",
       "\n",
       "    .dataframe thead th {\n",
       "        text-align: right;\n",
       "    }\n",
       "</style>\n",
       "<table border=\"1\" class=\"dataframe\">\n",
       "  <thead>\n",
       "    <tr style=\"text-align: right;\">\n",
       "      <th></th>\n",
       "      <th>count</th>\n",
       "      <th>mean</th>\n",
       "      <th>std</th>\n",
       "      <th>min</th>\n",
       "      <th>25%</th>\n",
       "      <th>50%</th>\n",
       "      <th>75%</th>\n",
       "      <th>max</th>\n",
       "    </tr>\n",
       "  </thead>\n",
       "  <tbody>\n",
       "    <tr>\n",
       "      <th>id</th>\n",
       "      <td>10000.0</td>\n",
       "      <td>500521.906800</td>\n",
       "      <td>290030.768758</td>\n",
       "      <td>101.000000</td>\n",
       "      <td>249638.500000</td>\n",
       "      <td>501777.000000</td>\n",
       "      <td>753974.500000</td>\n",
       "      <td>999976.000000</td>\n",
       "    </tr>\n",
       "    <tr>\n",
       "      <th>credit_score</th>\n",
       "      <td>9018.0</td>\n",
       "      <td>0.515813</td>\n",
       "      <td>0.137688</td>\n",
       "      <td>0.053358</td>\n",
       "      <td>0.417191</td>\n",
       "      <td>0.525033</td>\n",
       "      <td>0.618312</td>\n",
       "      <td>0.960819</td>\n",
       "    </tr>\n",
       "    <tr>\n",
       "      <th>vehicle_ownership</th>\n",
       "      <td>10000.0</td>\n",
       "      <td>0.697000</td>\n",
       "      <td>0.459578</td>\n",
       "      <td>0.000000</td>\n",
       "      <td>0.000000</td>\n",
       "      <td>1.000000</td>\n",
       "      <td>1.000000</td>\n",
       "      <td>1.000000</td>\n",
       "    </tr>\n",
       "    <tr>\n",
       "      <th>married</th>\n",
       "      <td>10000.0</td>\n",
       "      <td>0.498200</td>\n",
       "      <td>0.500022</td>\n",
       "      <td>0.000000</td>\n",
       "      <td>0.000000</td>\n",
       "      <td>0.000000</td>\n",
       "      <td>1.000000</td>\n",
       "      <td>1.000000</td>\n",
       "    </tr>\n",
       "    <tr>\n",
       "      <th>children</th>\n",
       "      <td>10000.0</td>\n",
       "      <td>0.688800</td>\n",
       "      <td>0.463008</td>\n",
       "      <td>0.000000</td>\n",
       "      <td>0.000000</td>\n",
       "      <td>1.000000</td>\n",
       "      <td>1.000000</td>\n",
       "      <td>1.000000</td>\n",
       "    </tr>\n",
       "    <tr>\n",
       "      <th>postal_code</th>\n",
       "      <td>10000.0</td>\n",
       "      <td>19864.548400</td>\n",
       "      <td>18915.613855</td>\n",
       "      <td>10238.000000</td>\n",
       "      <td>10238.000000</td>\n",
       "      <td>10238.000000</td>\n",
       "      <td>32765.000000</td>\n",
       "      <td>92101.000000</td>\n",
       "    </tr>\n",
       "    <tr>\n",
       "      <th>annual_mileage</th>\n",
       "      <td>9043.0</td>\n",
       "      <td>11697.003207</td>\n",
       "      <td>2818.434528</td>\n",
       "      <td>2000.000000</td>\n",
       "      <td>10000.000000</td>\n",
       "      <td>12000.000000</td>\n",
       "      <td>14000.000000</td>\n",
       "      <td>22000.000000</td>\n",
       "    </tr>\n",
       "    <tr>\n",
       "      <th>speeding_violations</th>\n",
       "      <td>10000.0</td>\n",
       "      <td>1.482900</td>\n",
       "      <td>2.241966</td>\n",
       "      <td>0.000000</td>\n",
       "      <td>0.000000</td>\n",
       "      <td>0.000000</td>\n",
       "      <td>2.000000</td>\n",
       "      <td>22.000000</td>\n",
       "    </tr>\n",
       "    <tr>\n",
       "      <th>DUIs</th>\n",
       "      <td>10000.0</td>\n",
       "      <td>0.239200</td>\n",
       "      <td>0.554990</td>\n",
       "      <td>0.000000</td>\n",
       "      <td>0.000000</td>\n",
       "      <td>0.000000</td>\n",
       "      <td>0.000000</td>\n",
       "      <td>6.000000</td>\n",
       "    </tr>\n",
       "    <tr>\n",
       "      <th>past_accidents</th>\n",
       "      <td>10000.0</td>\n",
       "      <td>1.056300</td>\n",
       "      <td>1.652454</td>\n",
       "      <td>0.000000</td>\n",
       "      <td>0.000000</td>\n",
       "      <td>0.000000</td>\n",
       "      <td>2.000000</td>\n",
       "      <td>15.000000</td>\n",
       "    </tr>\n",
       "    <tr>\n",
       "      <th>outcome</th>\n",
       "      <td>10000.0</td>\n",
       "      <td>0.313300</td>\n",
       "      <td>0.463858</td>\n",
       "      <td>0.000000</td>\n",
       "      <td>0.000000</td>\n",
       "      <td>0.000000</td>\n",
       "      <td>1.000000</td>\n",
       "      <td>1.000000</td>\n",
       "    </tr>\n",
       "  </tbody>\n",
       "</table>\n",
       "</div>"
      ],
      "text/plain": [
       "                       count           mean  ...            75%            max\n",
       "id                   10000.0  500521.906800  ...  753974.500000  999976.000000\n",
       "credit_score          9018.0       0.515813  ...       0.618312       0.960819\n",
       "vehicle_ownership    10000.0       0.697000  ...       1.000000       1.000000\n",
       "married              10000.0       0.498200  ...       1.000000       1.000000\n",
       "children             10000.0       0.688800  ...       1.000000       1.000000\n",
       "postal_code          10000.0   19864.548400  ...   32765.000000   92101.000000\n",
       "annual_mileage        9043.0   11697.003207  ...   14000.000000   22000.000000\n",
       "speeding_violations  10000.0       1.482900  ...       2.000000      22.000000\n",
       "DUIs                 10000.0       0.239200  ...       0.000000       6.000000\n",
       "past_accidents       10000.0       1.056300  ...       2.000000      15.000000\n",
       "outcome              10000.0       0.313300  ...       1.000000       1.000000\n",
       "\n",
       "[11 rows x 8 columns]"
      ]
     },
     "execution_count": 13,
     "metadata": {
      "tags": []
     },
     "output_type": "execute_result"
    }
   ],
   "source": [
    "#  Description of data\n",
    "df.describe().T"
   ]
  },
  {
   "cell_type": "code",
   "execution_count": 14,
   "metadata": {
    "colab": {
     "base_uri": "https://localhost:8080/"
    },
    "id": "MWZ-roWx_QH7",
    "outputId": "9c702308-23a1-4b18-9bf8-55f9ff5a827f"
   },
   "outputs": [
    {
     "name": "stdout",
     "output_type": "stream",
     "text": [
      "id                     0.00\n",
      "age                    0.00\n",
      "gender                 0.00\n",
      "race                   0.00\n",
      "driving_experience     0.00\n",
      "education              0.00\n",
      "income                 0.00\n",
      "credit_score           9.82\n",
      "vehicle_ownership      0.00\n",
      "vehicle_year           0.00\n",
      "married                0.00\n",
      "children               0.00\n",
      "postal_code            0.00\n",
      "annual_mileage         9.57\n",
      "vehicle_type           0.00\n",
      "speeding_violations    0.00\n",
      "DUIs                   0.00\n",
      "past_accidents         0.00\n",
      "outcome                0.00\n",
      "dtype: float64\n"
     ]
    }
   ],
   "source": [
    "#  Checking the percentage of missing values again in each column and treating them\n",
    "# Percentage of missing values in each column\n",
    "print(round(100*(df.isnull().sum()/len(df.index)), 2))"
   ]
  },
  {
   "cell_type": "code",
   "execution_count": 15,
   "metadata": {
    "colab": {
     "base_uri": "https://localhost:8080/"
    },
    "id": "_joFWce__T40",
    "outputId": "735abc32-e148-46c2-95b3-7f5dc0b42a0a"
   },
   "outputs": [
    {
     "data": {
      "text/plain": [
       "count    9018.000000\n",
       "mean        0.515813\n",
       "std         0.137688\n",
       "min         0.053358\n",
       "50%         0.525033\n",
       "90%         0.688293\n",
       "95%         0.722694\n",
       "99%         0.794611\n",
       "max         0.960819\n",
       "Name: credit_score, dtype: float64"
      ]
     },
     "execution_count": 15,
     "metadata": {
      "tags": []
     },
     "output_type": "execute_result"
    }
   ],
   "source": [
    "df['credit_score'].describe(percentiles = [0.9, 0.95, 0.99])"
   ]
  },
  {
   "cell_type": "code",
   "execution_count": 16,
   "metadata": {
    "colab": {
     "base_uri": "https://localhost:8080/"
    },
    "id": "OMpPLZo6_cJ5",
    "outputId": "79a123b9-615a-4f8f-fa64-9bb4eb4177e5"
   },
   "outputs": [
    {
     "name": "stdout",
     "output_type": "stream",
     "text": [
      "id                     0.00\n",
      "age                    0.00\n",
      "gender                 0.00\n",
      "race                   0.00\n",
      "driving_experience     0.00\n",
      "education              0.00\n",
      "income                 0.00\n",
      "credit_score           0.00\n",
      "vehicle_ownership      0.00\n",
      "vehicle_year           0.00\n",
      "married                0.00\n",
      "children               0.00\n",
      "postal_code            0.00\n",
      "annual_mileage         9.57\n",
      "vehicle_type           0.00\n",
      "speeding_violations    0.00\n",
      "DUIs                   0.00\n",
      "past_accidents         0.00\n",
      "outcome                0.00\n",
      "dtype: float64\n"
     ]
    }
   ],
   "source": [
    "df['credit_score'].fillna(df['credit_score'].median(), inplace = True)\n",
    "\n",
    "# Now lets check the percentage of missing values again\n",
    "print(round(100*(df.isnull().sum()/len(df.index)), 2))"
   ]
  },
  {
   "cell_type": "code",
   "execution_count": 17,
   "metadata": {
    "id": "RHmJikdg_e6j"
   },
   "outputs": [],
   "source": [
    "df['annual_mileage'] = df['annual_mileage'].fillna(df['annual_mileage'].mean())"
   ]
  },
  {
   "cell_type": "code",
   "execution_count": 18,
   "metadata": {
    "colab": {
     "base_uri": "https://localhost:8080/"
    },
    "id": "ufDi_5Sp_jXR",
    "outputId": "ee3ffdf6-caf6-4726-c36c-4dc17f0e1193"
   },
   "outputs": [
    {
     "data": {
      "text/plain": [
       "id                     0\n",
       "age                    0\n",
       "gender                 0\n",
       "race                   0\n",
       "driving_experience     0\n",
       "education              0\n",
       "income                 0\n",
       "credit_score           0\n",
       "vehicle_ownership      0\n",
       "vehicle_year           0\n",
       "married                0\n",
       "children               0\n",
       "postal_code            0\n",
       "annual_mileage         0\n",
       "vehicle_type           0\n",
       "speeding_violations    0\n",
       "DUIs                   0\n",
       "past_accidents         0\n",
       "outcome                0\n",
       "dtype: int64"
      ]
     },
     "execution_count": 18,
     "metadata": {
      "tags": []
     },
     "output_type": "execute_result"
    }
   ],
   "source": [
    "df.isnull().sum()"
   ]
  },
  {
   "cell_type": "code",
   "execution_count": 19,
   "metadata": {
    "colab": {
     "base_uri": "https://localhost:8080/",
     "height": 358
    },
    "id": "yvHm_RUD_mDd",
    "outputId": "ab715430-d084-4bcb-9e53-62852803136b"
   },
   "outputs": [
    {
     "data": {
      "image/png": "[encoded data removed]",
      "text/plain": [
       "<Figure size 432x288 with 2 Axes>"
      ]
     },
     "metadata": {
      "needs_background": "light",
      "tags": []
     },
     "output_type": "display_data"
    }
   ],
   "source": [
    "sns.heatmap(df.isnull())\n",
    "plt.show()"
   ]
  },
  {
   "cell_type": "code",
   "execution_count": 20,
   "metadata": {
    "colab": {
     "base_uri": "https://localhost:8080/",
     "height": 410
    },
    "id": "Gga4L20o_qB_",
    "outputId": "d4d5dd14-a843-49df-a14b-48bbf840c7c1"
   },
   "outputs": [
    {
     "data": {
      "text/html": [
       "<div>\n",
       "<style scoped>\n",
       "    .dataframe tbody tr th:only-of-type {\n",
       "        vertical-align: middle;\n",
       "    }\n",
       "\n",
       "    .dataframe tbody tr th {\n",
       "        vertical-align: top;\n",
       "    }\n",
       "\n",
       "    .dataframe thead th {\n",
       "        text-align: right;\n",
       "    }\n",
       "</style>\n",
       "<table border=\"1\" class=\"dataframe\">\n",
       "  <thead>\n",
       "    <tr style=\"text-align: right;\">\n",
       "      <th></th>\n",
       "      <th>id</th>\n",
       "      <th>credit_score</th>\n",
       "      <th>vehicle_ownership</th>\n",
       "      <th>married</th>\n",
       "      <th>children</th>\n",
       "      <th>postal_code</th>\n",
       "      <th>annual_mileage</th>\n",
       "      <th>speeding_violations</th>\n",
       "      <th>DUIs</th>\n",
       "      <th>past_accidents</th>\n",
       "      <th>outcome</th>\n",
       "    </tr>\n",
       "  </thead>\n",
       "  <tbody>\n",
       "    <tr>\n",
       "      <th>id</th>\n",
       "      <td>1.000000</td>\n",
       "      <td>0.001416</td>\n",
       "      <td>0.009197</td>\n",
       "      <td>0.014826</td>\n",
       "      <td>0.001233</td>\n",
       "      <td>0.006038</td>\n",
       "      <td>-0.002111</td>\n",
       "      <td>0.008156</td>\n",
       "      <td>0.009268</td>\n",
       "      <td>0.001831</td>\n",
       "      <td>-0.010506</td>\n",
       "    </tr>\n",
       "    <tr>\n",
       "      <th>credit_score</th>\n",
       "      <td>0.001416</td>\n",
       "      <td>1.000000</td>\n",
       "      <td>0.295310</td>\n",
       "      <td>0.266744</td>\n",
       "      <td>0.209448</td>\n",
       "      <td>0.008759</td>\n",
       "      <td>-0.157530</td>\n",
       "      <td>0.194658</td>\n",
       "      <td>0.120966</td>\n",
       "      <td>0.172008</td>\n",
       "      <td>-0.308998</td>\n",
       "    </tr>\n",
       "    <tr>\n",
       "      <th>vehicle_ownership</th>\n",
       "      <td>0.009197</td>\n",
       "      <td>0.295310</td>\n",
       "      <td>1.000000</td>\n",
       "      <td>0.175626</td>\n",
       "      <td>0.125990</td>\n",
       "      <td>-0.004866</td>\n",
       "      <td>-0.092701</td>\n",
       "      <td>0.133868</td>\n",
       "      <td>0.086567</td>\n",
       "      <td>0.119521</td>\n",
       "      <td>-0.378921</td>\n",
       "    </tr>\n",
       "    <tr>\n",
       "      <th>married</th>\n",
       "      <td>0.014826</td>\n",
       "      <td>0.266744</td>\n",
       "      <td>0.175626</td>\n",
       "      <td>1.000000</td>\n",
       "      <td>0.287009</td>\n",
       "      <td>0.012045</td>\n",
       "      <td>-0.439520</td>\n",
       "      <td>0.218855</td>\n",
       "      <td>0.120840</td>\n",
       "      <td>0.215269</td>\n",
       "      <td>-0.262104</td>\n",
       "    </tr>\n",
       "    <tr>\n",
       "      <th>children</th>\n",
       "      <td>0.001233</td>\n",
       "      <td>0.209448</td>\n",
       "      <td>0.125990</td>\n",
       "      <td>0.287009</td>\n",
       "      <td>1.000000</td>\n",
       "      <td>0.020911</td>\n",
       "      <td>-0.425813</td>\n",
       "      <td>0.220415</td>\n",
       "      <td>0.115354</td>\n",
       "      <td>0.206295</td>\n",
       "      <td>-0.232835</td>\n",
       "    </tr>\n",
       "    <tr>\n",
       "      <th>postal_code</th>\n",
       "      <td>0.006038</td>\n",
       "      <td>0.008759</td>\n",
       "      <td>-0.004866</td>\n",
       "      <td>0.012045</td>\n",
       "      <td>0.020911</td>\n",
       "      <td>1.000000</td>\n",
       "      <td>-0.127286</td>\n",
       "      <td>0.113686</td>\n",
       "      <td>0.038492</td>\n",
       "      <td>-0.116985</td>\n",
       "      <td>0.095889</td>\n",
       "    </tr>\n",
       "    <tr>\n",
       "      <th>annual_mileage</th>\n",
       "      <td>-0.002111</td>\n",
       "      <td>-0.157530</td>\n",
       "      <td>-0.092701</td>\n",
       "      <td>-0.439520</td>\n",
       "      <td>-0.425813</td>\n",
       "      <td>-0.127286</td>\n",
       "      <td>1.000000</td>\n",
       "      <td>-0.308125</td>\n",
       "      <td>-0.111232</td>\n",
       "      <td>-0.187180</td>\n",
       "      <td>0.177575</td>\n",
       "    </tr>\n",
       "    <tr>\n",
       "      <th>speeding_violations</th>\n",
       "      <td>0.008156</td>\n",
       "      <td>0.194658</td>\n",
       "      <td>0.133868</td>\n",
       "      <td>0.218855</td>\n",
       "      <td>0.220415</td>\n",
       "      <td>0.113686</td>\n",
       "      <td>-0.308125</td>\n",
       "      <td>1.000000</td>\n",
       "      <td>0.359838</td>\n",
       "      <td>0.443074</td>\n",
       "      <td>-0.291862</td>\n",
       "    </tr>\n",
       "    <tr>\n",
       "      <th>DUIs</th>\n",
       "      <td>0.009268</td>\n",
       "      <td>0.120966</td>\n",
       "      <td>0.086567</td>\n",
       "      <td>0.120840</td>\n",
       "      <td>0.115354</td>\n",
       "      <td>0.038492</td>\n",
       "      <td>-0.111232</td>\n",
       "      <td>0.359838</td>\n",
       "      <td>1.000000</td>\n",
       "      <td>0.259359</td>\n",
       "      <td>-0.189352</td>\n",
       "    </tr>\n",
       "    <tr>\n",
       "      <th>past_accidents</th>\n",
       "      <td>0.001831</td>\n",
       "      <td>0.172008</td>\n",
       "      <td>0.119521</td>\n",
       "      <td>0.215269</td>\n",
       "      <td>0.206295</td>\n",
       "      <td>-0.116985</td>\n",
       "      <td>-0.187180</td>\n",
       "      <td>0.443074</td>\n",
       "      <td>0.259359</td>\n",
       "      <td>1.000000</td>\n",
       "      <td>-0.311495</td>\n",
       "    </tr>\n",
       "    <tr>\n",
       "      <th>outcome</th>\n",
       "      <td>-0.010506</td>\n",
       "      <td>-0.308998</td>\n",
       "      <td>-0.378921</td>\n",
       "      <td>-0.262104</td>\n",
       "      <td>-0.232835</td>\n",
       "      <td>0.095889</td>\n",
       "      <td>0.177575</td>\n",
       "      <td>-0.291862</td>\n",
       "      <td>-0.189352</td>\n",
       "      <td>-0.311495</td>\n",
       "      <td>1.000000</td>\n",
       "    </tr>\n",
       "  </tbody>\n",
       "</table>\n",
       "</div>"
      ],
      "text/plain": [
       "                           id  credit_score  ...  past_accidents   outcome\n",
       "id                   1.000000      0.001416  ...        0.001831 -0.010506\n",
       "credit_score         0.001416      1.000000  ...        0.172008 -0.308998\n",
       "vehicle_ownership    0.009197      0.295310  ...        0.119521 -0.378921\n",
       "married              0.014826      0.266744  ...        0.215269 -0.262104\n",
       "children             0.001233      0.209448  ...        0.206295 -0.232835\n",
       "postal_code          0.006038      0.008759  ...       -0.116985  0.095889\n",
       "annual_mileage      -0.002111     -0.157530  ...       -0.187180  0.177575\n",
       "speeding_violations  0.008156      0.194658  ...        0.443074 -0.291862\n",
       "DUIs                 0.009268      0.120966  ...        0.259359 -0.189352\n",
       "past_accidents       0.001831      0.172008  ...        1.000000 -0.311495\n",
       "outcome             -0.010506     -0.308998  ...       -0.311495  1.000000\n",
       "\n",
       "[11 rows x 11 columns]"
      ]
     },
     "execution_count": 20,
     "metadata": {
      "tags": []
     },
     "output_type": "execute_result"
    }
   ],
   "source": [
    "# Check correlation\n",
    "df.corr()"
   ]
  },
  {
   "cell_type": "code",
   "execution_count": 21,
   "metadata": {
    "colab": {
     "base_uri": "https://localhost:8080/",
     "height": 592
    },
    "id": "3XW8BT7u_tn5",
    "outputId": "cd1b5a91-b2ea-402b-8d82-42e0d16395cc"
   },
   "outputs": [
    {
     "data": {
      "text/plain": [
       "<matplotlib.axes._subplots.AxesSubplot at 0x7fbe5e4a8290>"
      ]
     },
     "execution_count": 21,
     "metadata": {
      "tags": []
     },
     "output_type": "execute_result"
    },
    {
     "data": {
      "image/png": "[encoded data removed]",
      "text/plain": [
       "<Figure size 1440x720 with 2 Axes>"
      ]
     },
     "metadata": {
      "needs_background": "light",
      "tags": []
     },
     "output_type": "display_data"
    }
   ],
   "source": [
    "plt.figure(figsize=(20,10))\n",
    "sns.heatmap(df.corr(),annot=True)"
   ]
  },
  {
   "cell_type": "code",
   "execution_count": 22,
   "metadata": {
    "colab": {
     "base_uri": "https://localhost:8080/"
    },
    "id": "jFpdUI9u_wpE",
    "outputId": "b5c852d2-717f-478d-8414-8d05b8efd08c"
   },
   "outputs": [
    {
     "name": "stdout",
     "output_type": "stream",
     "text": [
      ">>> Total Number of Features :: 19\n",
      ">>> Number of Categorical Features :: 8\n",
      ">>> Number of Numerical Features :: 11\n"
     ]
    }
   ],
   "source": [
    "#seprate the categorical columns and numerical columns\n",
    "cat_df, num_df = [], []\n",
    "for i in df:\n",
    "    if df[i].dtypes=='object':\n",
    "        cat_df.append(i)\n",
    "    elif (df[i].dtypes=='int') | (df[i].dtypes=='float') | (df[i].dtypes=='int64'):\n",
    "        num_df.append(i)\n",
    "    else: print('Others >', i)\n",
    "print('>>> Total Number of Features ::', df.shape[1])\n",
    "print('>>> Number of Categorical Features ::', len(cat_df))\n",
    "print('>>> Number of Numerical Features ::', len(num_df))"
   ]
  },
  {
   "cell_type": "code",
   "execution_count": 23,
   "metadata": {
    "colab": {
     "base_uri": "https://localhost:8080/",
     "height": 1000
    },
    "id": "vIaZ8Ak0_z3u",
    "outputId": "a10fe13b-6a2d-4c8f-f269-26997f6f04c4"
   },
   "outputs": [
    {
     "data": {
      "image/png": "[encoded data removed]",
      "text/plain": [
       "<Figure size 1224x216 with 2 Axes>"
      ]
     },
     "metadata": {
      "needs_background": "light",
      "tags": []
     },
     "output_type": "display_data"
    },
    {
     "data": {
      "image/png": "[encoded data removed]",
      "text/plain": [
       "<Figure size 1224x216 with 2 Axes>"
      ]
     },
     "metadata": {
      "needs_background": "light",
      "tags": []
     },
     "output_type": "display_data"
    },
    {
     "data": {
      "image/png": "[encoded data removed]",
      "text/plain": [
       "<Figure size 1224x216 with 2 Axes>"
      ]
     },
     "metadata": {
      "needs_background": "light",
      "tags": []
     },
     "output_type": "display_data"
    },
    {
     "data": {
      "image/png": "[encoded data removed]",
      "text/plain": [
       "<Figure size 1224x216 with 2 Axes>"
      ]
     },
     "metadata": {
      "needs_background": "light",
      "tags": []
     },
     "output_type": "display_data"
    },
    {
     "data": {
      "image/png": "[encoded data removed]",
      "text/plain": [
       "<Figure size 1224x216 with 2 Axes>"
      ]
     },
     "metadata": {
      "needs_background": "light",
      "tags": []
     },
     "output_type": "display_data"
    },
    {
     "data": {
      "image/png": "[encoded data removed]",
      "text/plain": [
       "<Figure size 1224x216 with 2 Axes>"
      ]
     },
     "metadata": {
      "needs_background": "light",
      "tags": []
     },
     "output_type": "display_data"
    },
    {
     "data": {
      "image/png": "[encoded data removed]",
      "text/plain": [
       "<Figure size 1224x216 with 2 Axes>"
      ]
     },
     "metadata": {
      "needs_background": "light",
      "tags": []
     },
     "output_type": "display_data"
    },
    {
     "data": {
      "image/png": "[encoded data removed]",
      "text/plain": [
       "<Figure size 1224x216 with 2 Axes>"
      ]
     },
     "metadata": {
      "needs_background": "light",
      "tags": []
     },
     "output_type": "display_data"
    },
    {
     "data": {
      "image/png": "[encoded data removed]",
      "text/plain": [
       "<Figure size 1224x216 with 2 Axes>"
      ]
     },
     "metadata": {
      "needs_background": "light",
      "tags": []
     },
     "output_type": "display_data"
    },
    {
     "data": {
      "image/png": "[encoded data removed]",
      "text/plain": [
       "<Figure size 1224x216 with 2 Axes>"
      ]
     },
     "metadata": {
      "needs_background": "light",
      "tags": []
     },
     "output_type": "display_data"
    },
    {
     "data": {
      "image/png": "[encoded data removed]",
      "text/plain": [
       "<Figure size 1224x216 with 2 Axes>"
      ]
     },
     "metadata": {
      "needs_background": "light",
      "tags": []
     },
     "output_type": "display_data"
    }
   ],
   "source": [
    "#Univariate analysis of numerical features\n",
    "for i in num_df:\n",
    "    f=plt.figure(figsize=(17,3))\n",
    "    f.add_subplot(1,2,1)\n",
    "    sns.distplot(df[i].describe(),bins=30)\n",
    "    f.add_subplot(1,2,2)\n",
    "    sns.boxplot(df[i])"
   ]
  },
  {
   "cell_type": "code",
   "execution_count": 24,
   "metadata": {
    "colab": {
     "base_uri": "https://localhost:8080/",
     "height": 1000
    },
    "id": "RKVTczbB_4dd",
    "outputId": "a90a64d6-9898-44ad-8c46-a4da75daec4a"
   },
   "outputs": [
    {
     "data": {
      "image/png": "[encoded data removed]",
      "text/plain": [
       "<Figure size 1152x216 with 1 Axes>"
      ]
     },
     "metadata": {
      "needs_background": "light",
      "tags": []
     },
     "output_type": "display_data"
    },
    {
     "data": {
      "image/png": "[encoded data removed]",
      "text/plain": [
       "<Figure size 1152x216 with 1 Axes>"
      ]
     },
     "metadata": {
      "needs_background": "light",
      "tags": []
     },
     "output_type": "display_data"
    },
    {
     "data": {
      "image/png": "[encoded data removed]",
      "text/plain": [
       "<Figure size 1152x216 with 1 Axes>"
      ]
     },
     "metadata": {
      "needs_background": "light",
      "tags": []
     },
     "output_type": "display_data"
    },
    {
     "data": {
      "image/png": "[encoded data removed]",
      "text/plain": [
       "<Figure size 1152x216 with 1 Axes>"
      ]
     },
     "metadata": {
      "needs_background": "light",
      "tags": []
     },
     "output_type": "display_data"
    },
    {
     "data": {
      "image/png": "[encoded data removed]",
      "text/plain": [
       "<Figure size 1152x216 with 1 Axes>"
      ]
     },
     "metadata": {
      "needs_background": "light",
      "tags": []
     },
     "output_type": "display_data"
    },
    {
     "data": {
      "image/png": "[encoded data removed]",
      "text/plain": [
       "<Figure size 1152x216 with 1 Axes>"
      ]
     },
     "metadata": {
      "needs_background": "light",
      "tags": []
     },
     "output_type": "display_data"
    },
    {
     "data": {
      "image/png": "[encoded data removed]",
      "text/plain": [
       "<Figure size 1152x216 with 1 Axes>"
      ]
     },
     "metadata": {
      "needs_background": "light",
      "tags": []
     },
     "output_type": "display_data"
    },
    {
     "data": {
      "image/png": "[encoded data removed]",
      "text/plain": [
       "<Figure size 1152x216 with 1 Axes>"
      ]
     },
     "metadata": {
      "needs_background": "light",
      "tags": []
     },
     "output_type": "display_data"
    }
   ],
   "source": [
    "#Univariate analysis of categorical features\n",
    "for i in cat_df:\n",
    "    f=plt.figure(figsize=(16,3))\n",
    "    f.add_subplot(1,1,1)\n",
    "    sns.countplot(df[i])"
   ]
  },
  {
   "cell_type": "code",
   "execution_count": 25,
   "metadata": {
    "colab": {
     "base_uri": "https://localhost:8080/"
    },
    "id": "7fH1w7ZA_75a",
    "outputId": "95923393-4531-4cef-cb3b-617c39cf647a"
   },
   "outputs": [
    {
     "name": "stdout",
     "output_type": "stream",
     "text": [
      ">>>> # of unique values in df <<<<\n",
      "id ---> 10000\n",
      "age ---> 4\n",
      "gender ---> 2\n",
      "race ---> 2\n",
      "driving_experience ---> 4\n",
      "education ---> 3\n",
      "income ---> 4\n",
      "credit_score ---> 9019\n",
      "vehicle_ownership ---> 2\n",
      "vehicle_year ---> 2\n",
      "married ---> 2\n",
      "children ---> 2\n",
      "postal_code ---> 4\n",
      "annual_mileage ---> 22\n",
      "vehicle_type ---> 2\n",
      "speeding_violations ---> 21\n",
      "DUIs ---> 7\n",
      "past_accidents ---> 15\n",
      "outcome ---> 2\n"
     ]
    }
   ],
   "source": [
    "print('>>>> # of unique values in df <<<<')\n",
    "for i in df:\n",
    "    print(i, '--->', df[i].nunique())"
   ]
  },
  {
   "cell_type": "code",
   "execution_count": 26,
   "metadata": {
    "colab": {
     "base_uri": "https://localhost:8080/"
    },
    "id": "9pBvHCTp__iA",
    "outputId": "2f7c4537-197a-4993-9d37-53690b064ffb"
   },
   "outputs": [
    {
     "data": {
      "text/plain": [
       "26-39    3063\n",
       "40-64    2931\n",
       "16-25    2016\n",
       "65+      1990\n",
       "Name: age, dtype: int64"
      ]
     },
     "execution_count": 26,
     "metadata": {
      "tags": []
     },
     "output_type": "execute_result"
    }
   ],
   "source": [
    "df['age'].value_counts()"
   ]
  },
  {
   "cell_type": "code",
   "execution_count": 27,
   "metadata": {
    "colab": {
     "base_uri": "https://localhost:8080/"
    },
    "id": "Mafjr1AFADRO",
    "outputId": "5f353ed1-b480-45c5-c02e-22048a21be5a"
   },
   "outputs": [
    {
     "data": {
      "text/plain": [
       "1    3063\n",
       "2    2931\n",
       "0    2016\n",
       "3    1990\n",
       "Name: age, dtype: int64"
      ]
     },
     "execution_count": 27,
     "metadata": {
      "tags": []
     },
     "output_type": "execute_result"
    }
   ],
   "source": [
    "df['age'].replace({'16-25':'0','26-39':'1','40-64':'2','65+':'3'},inplace=True)\n",
    "df['age'].value_counts()"
   ]
  },
  {
   "cell_type": "code",
   "execution_count": 28,
   "metadata": {
    "colab": {
     "base_uri": "https://localhost:8080/"
    },
    "id": "Wtn6xrD2AGjL",
    "outputId": "60a7cf07-d9e3-42a7-f9fe-29b3b10ca7f8"
   },
   "outputs": [
    {
     "data": {
      "text/plain": [
       "female    5010\n",
       "male      4990\n",
       "Name: gender, dtype: int64"
      ]
     },
     "execution_count": 28,
     "metadata": {
      "tags": []
     },
     "output_type": "execute_result"
    }
   ],
   "source": [
    "df['gender'].value_counts()"
   ]
  },
  {
   "cell_type": "code",
   "execution_count": 29,
   "metadata": {
    "colab": {
     "base_uri": "https://localhost:8080/"
    },
    "id": "p0-I-7WlAJoO",
    "outputId": "6d7dc685-84e5-4380-f503-45bd31be964f"
   },
   "outputs": [
    {
     "data": {
      "text/plain": [
       "0    5010\n",
       "1    4990\n",
       "Name: gender, dtype: int64"
      ]
     },
     "execution_count": 29,
     "metadata": {
      "tags": []
     },
     "output_type": "execute_result"
    }
   ],
   "source": [
    "df['gender'].replace({'female':'0','male':'1'},inplace=True)\n",
    "df['gender'].value_counts()"
   ]
  },
  {
   "cell_type": "code",
   "execution_count": 30,
   "metadata": {
    "colab": {
     "base_uri": "https://localhost:8080/"
    },
    "id": "q-JUO87-AO7z",
    "outputId": "59b67447-79b6-41ab-a616-b678d075c683"
   },
   "outputs": [
    {
     "data": {
      "text/plain": [
       "majority    9012\n",
       "minority     988\n",
       "Name: race, dtype: int64"
      ]
     },
     "execution_count": 30,
     "metadata": {
      "tags": []
     },
     "output_type": "execute_result"
    }
   ],
   "source": [
    "df['race'].value_counts()"
   ]
  },
  {
   "cell_type": "code",
   "execution_count": 31,
   "metadata": {
    "colab": {
     "base_uri": "https://localhost:8080/"
    },
    "id": "6CD_j-uFAUVh",
    "outputId": "98c92fa8-7505-416a-8ed3-4769f610e9bb"
   },
   "outputs": [
    {
     "data": {
      "text/plain": [
       "1    9012\n",
       "0     988\n",
       "Name: race, dtype: int64"
      ]
     },
     "execution_count": 31,
     "metadata": {
      "tags": []
     },
     "output_type": "execute_result"
    }
   ],
   "source": [
    "df['race'].replace({'minority':'0','majority':'1'},inplace=True)\n",
    "df['race'].value_counts()"
   ]
  },
  {
   "cell_type": "code",
   "execution_count": 32,
   "metadata": {
    "colab": {
     "base_uri": "https://localhost:8080/"
    },
    "id": "SGeYer5IAYQi",
    "outputId": "ac30884d-50b9-4099-8ed0-9d7156fd3e9d"
   },
   "outputs": [
    {
     "data": {
      "text/plain": [
       "0-9y      3530\n",
       "10-19y    3299\n",
       "20-29y    2119\n",
       "30y+      1052\n",
       "Name: driving_experience, dtype: int64"
      ]
     },
     "execution_count": 32,
     "metadata": {
      "tags": []
     },
     "output_type": "execute_result"
    }
   ],
   "source": [
    "df['driving_experience'].value_counts()"
   ]
  },
  {
   "cell_type": "code",
   "execution_count": 33,
   "metadata": {
    "colab": {
     "base_uri": "https://localhost:8080/"
    },
    "id": "9QICl-q0Abx-",
    "outputId": "b9b774ff-e51d-49ad-e80c-97c09cd88bc0"
   },
   "outputs": [
    {
     "data": {
      "text/plain": [
       "0    3530\n",
       "1    3299\n",
       "2    2119\n",
       "3    1052\n",
       "Name: driving_experience, dtype: int64"
      ]
     },
     "execution_count": 33,
     "metadata": {
      "tags": []
     },
     "output_type": "execute_result"
    }
   ],
   "source": [
    "df['driving_experience'].replace({'0-9y':'0','10-19y':'1','20-29y':'2','30y+':'3'},inplace=True)\n",
    "df['driving_experience'].value_counts()"
   ]
  },
  {
   "cell_type": "code",
   "execution_count": 34,
   "metadata": {
    "colab": {
     "base_uri": "https://localhost:8080/"
    },
    "id": "Gp8_7ayiAe4Y",
    "outputId": "4d2e661a-335f-4fe5-ab9e-b07c0792c863"
   },
   "outputs": [
    {
     "data": {
      "text/plain": [
       "high school    4157\n",
       "university     3928\n",
       "none           1915\n",
       "Name: education, dtype: int64"
      ]
     },
     "execution_count": 34,
     "metadata": {
      "tags": []
     },
     "output_type": "execute_result"
    }
   ],
   "source": [
    "df['education'].value_counts()"
   ]
  },
  {
   "cell_type": "code",
   "execution_count": 35,
   "metadata": {
    "colab": {
     "base_uri": "https://localhost:8080/"
    },
    "id": "gK1jPNxEAjAA",
    "outputId": "4d3203e6-f073-4410-ca04-41d1afcdd7dd"
   },
   "outputs": [
    {
     "data": {
      "text/plain": [
       "1    4157\n",
       "2    3928\n",
       "0    1915\n",
       "Name: education, dtype: int64"
      ]
     },
     "execution_count": 35,
     "metadata": {
      "tags": []
     },
     "output_type": "execute_result"
    }
   ],
   "source": [
    "df['education'].replace({'none':'0','high school':'1','university':'2'},inplace=True)\n",
    "df['education'].value_counts()"
   ]
  },
  {
   "cell_type": "code",
   "execution_count": 36,
   "metadata": {
    "colab": {
     "base_uri": "https://localhost:8080/"
    },
    "id": "Qyp1BwppAmk5",
    "outputId": "e62ac69b-8bc4-42c5-fa99-a1e6e3c9e336"
   },
   "outputs": [
    {
     "data": {
      "text/plain": [
       "upper class      4336\n",
       "middle class     2138\n",
       "poverty          1814\n",
       "working class    1712\n",
       "Name: income, dtype: int64"
      ]
     },
     "execution_count": 36,
     "metadata": {
      "tags": []
     },
     "output_type": "execute_result"
    }
   ],
   "source": [
    "df['income'].value_counts()"
   ]
  },
  {
   "cell_type": "code",
   "execution_count": 37,
   "metadata": {
    "colab": {
     "base_uri": "https://localhost:8080/"
    },
    "id": "UKDn8AFbAptT",
    "outputId": "422f985c-9fd7-4296-f6ec-70c6a1e60331"
   },
   "outputs": [
    {
     "data": {
      "text/plain": [
       "3    4336\n",
       "2    2138\n",
       "0    1814\n",
       "1    1712\n",
       "Name: income, dtype: int64"
      ]
     },
     "execution_count": 37,
     "metadata": {
      "tags": []
     },
     "output_type": "execute_result"
    }
   ],
   "source": [
    "df['income'].replace({'poverty':'0','working class':'1','middle class':'2','upper class':'3'},inplace=True)\n",
    "df['income'].value_counts()"
   ]
  },
  {
   "cell_type": "code",
   "execution_count": 38,
   "metadata": {
    "colab": {
     "base_uri": "https://localhost:8080/"
    },
    "id": "dx8gV2nEAt7C",
    "outputId": "2ac33ec5-e9ba-444c-f137-7e75a79808df"
   },
   "outputs": [
    {
     "data": {
      "text/plain": [
       "1    6970\n",
       "0    3030\n",
       "Name: vehicle_ownership, dtype: int64"
      ]
     },
     "execution_count": 38,
     "metadata": {
      "tags": []
     },
     "output_type": "execute_result"
    }
   ],
   "source": [
    "df['vehicle_ownership'].value_counts()"
   ]
  },
  {
   "cell_type": "code",
   "execution_count": 39,
   "metadata": {
    "colab": {
     "base_uri": "https://localhost:8080/"
    },
    "id": "P_wSCi5_AyC1",
    "outputId": "8f355f2d-e3b3-457d-e39b-717e7470108a"
   },
   "outputs": [
    {
     "data": {
      "text/plain": [
       "before 2015    6967\n",
       "after 2015     3033\n",
       "Name: vehicle_year, dtype: int64"
      ]
     },
     "execution_count": 39,
     "metadata": {
      "tags": []
     },
     "output_type": "execute_result"
    }
   ],
   "source": [
    "df['vehicle_year'].value_counts()"
   ]
  },
  {
   "cell_type": "code",
   "execution_count": 40,
   "metadata": {
    "colab": {
     "base_uri": "https://localhost:8080/"
    },
    "id": "a6W0HqR_A5Qz",
    "outputId": "b67d1040-c689-491d-a922-78ac359dc304"
   },
   "outputs": [
    {
     "data": {
      "text/plain": [
       "0    6967\n",
       "1    3033\n",
       "Name: vehicle_year, dtype: int64"
      ]
     },
     "execution_count": 40,
     "metadata": {
      "tags": []
     },
     "output_type": "execute_result"
    }
   ],
   "source": [
    "df['vehicle_year'].replace({'before 2015':'0','after 2015':'1'},inplace=True)\n",
    "df['vehicle_year'].value_counts()"
   ]
  },
  {
   "cell_type": "code",
   "execution_count": 41,
   "metadata": {
    "colab": {
     "base_uri": "https://localhost:8080/"
    },
    "id": "CYy3s4D0A735",
    "outputId": "d84ce101-331e-4534-cb45-4ce137998f6d"
   },
   "outputs": [
    {
     "data": {
      "text/plain": [
       "sedan         9523\n",
       "sports car     477\n",
       "Name: vehicle_type, dtype: int64"
      ]
     },
     "execution_count": 41,
     "metadata": {
      "tags": []
     },
     "output_type": "execute_result"
    }
   ],
   "source": [
    "df['vehicle_type'].value_counts()"
   ]
  },
  {
   "cell_type": "code",
   "execution_count": 42,
   "metadata": {
    "colab": {
     "base_uri": "https://localhost:8080/"
    },
    "id": "yTGvc8eSBAZF",
    "outputId": "95f59b82-8735-4e4f-ffde-b7e8bb9eed31"
   },
   "outputs": [
    {
     "data": {
      "text/plain": [
       "1    9523\n",
       "0     477\n",
       "Name: vehicle_type, dtype: int64"
      ]
     },
     "execution_count": 42,
     "metadata": {
      "tags": []
     },
     "output_type": "execute_result"
    }
   ],
   "source": [
    "df['vehicle_type'].replace({'sports car':'0','sedan':'1'},inplace=True)\n",
    "df['vehicle_type'].value_counts()"
   ]
  },
  {
   "cell_type": "code",
   "execution_count": 43,
   "metadata": {
    "colab": {
     "base_uri": "https://localhost:8080/"
    },
    "id": "N-QUlLerBEfR",
    "outputId": "1adcf51e-620a-4211-c46b-63e11f11100f"
   },
   "outputs": [
    {
     "data": {
      "text/plain": [
       "0    6867\n",
       "1    3133\n",
       "Name: outcome, dtype: int64"
      ]
     },
     "execution_count": 43,
     "metadata": {
      "tags": []
     },
     "output_type": "execute_result"
    }
   ],
   "source": [
    "df['outcome'].value_counts()"
   ]
  },
  {
   "cell_type": "code",
   "execution_count": 44,
   "metadata": {
    "colab": {
     "base_uri": "https://localhost:8080/",
     "height": 224
    },
    "id": "M9WU2AmwBHKx",
    "outputId": "0daad8cd-f676-41c2-c417-a6093f8c1f69"
   },
   "outputs": [
    {
     "data": {
      "text/html": [
       "<div>\n",
       "<style scoped>\n",
       "    .dataframe tbody tr th:only-of-type {\n",
       "        vertical-align: middle;\n",
       "    }\n",
       "\n",
       "    .dataframe tbody tr th {\n",
       "        vertical-align: top;\n",
       "    }\n",
       "\n",
       "    .dataframe thead th {\n",
       "        text-align: right;\n",
       "    }\n",
       "</style>\n",
       "<table border=\"1\" class=\"dataframe\">\n",
       "  <thead>\n",
       "    <tr style=\"text-align: right;\">\n",
       "      <th></th>\n",
       "      <th>id</th>\n",
       "      <th>age</th>\n",
       "      <th>gender</th>\n",
       "      <th>race</th>\n",
       "      <th>driving_experience</th>\n",
       "      <th>education</th>\n",
       "      <th>income</th>\n",
       "      <th>credit_score</th>\n",
       "      <th>vehicle_ownership</th>\n",
       "      <th>vehicle_year</th>\n",
       "      <th>married</th>\n",
       "      <th>children</th>\n",
       "      <th>postal_code</th>\n",
       "      <th>annual_mileage</th>\n",
       "      <th>vehicle_type</th>\n",
       "      <th>speeding_violations</th>\n",
       "      <th>DUIs</th>\n",
       "      <th>past_accidents</th>\n",
       "      <th>outcome</th>\n",
       "    </tr>\n",
       "  </thead>\n",
       "  <tbody>\n",
       "    <tr>\n",
       "      <th>0</th>\n",
       "      <td>569520</td>\n",
       "      <td>3</td>\n",
       "      <td>0</td>\n",
       "      <td>1</td>\n",
       "      <td>0</td>\n",
       "      <td>1</td>\n",
       "      <td>3</td>\n",
       "      <td>0.629027</td>\n",
       "      <td>1</td>\n",
       "      <td>1</td>\n",
       "      <td>0</td>\n",
       "      <td>1</td>\n",
       "      <td>10238</td>\n",
       "      <td>12000.0</td>\n",
       "      <td>1</td>\n",
       "      <td>0</td>\n",
       "      <td>0</td>\n",
       "      <td>0</td>\n",
       "      <td>0</td>\n",
       "    </tr>\n",
       "    <tr>\n",
       "      <th>1</th>\n",
       "      <td>750365</td>\n",
       "      <td>0</td>\n",
       "      <td>1</td>\n",
       "      <td>1</td>\n",
       "      <td>0</td>\n",
       "      <td>0</td>\n",
       "      <td>0</td>\n",
       "      <td>0.357757</td>\n",
       "      <td>0</td>\n",
       "      <td>0</td>\n",
       "      <td>0</td>\n",
       "      <td>0</td>\n",
       "      <td>10238</td>\n",
       "      <td>16000.0</td>\n",
       "      <td>1</td>\n",
       "      <td>0</td>\n",
       "      <td>0</td>\n",
       "      <td>0</td>\n",
       "      <td>1</td>\n",
       "    </tr>\n",
       "    <tr>\n",
       "      <th>2</th>\n",
       "      <td>199901</td>\n",
       "      <td>0</td>\n",
       "      <td>0</td>\n",
       "      <td>1</td>\n",
       "      <td>0</td>\n",
       "      <td>1</td>\n",
       "      <td>1</td>\n",
       "      <td>0.493146</td>\n",
       "      <td>1</td>\n",
       "      <td>0</td>\n",
       "      <td>0</td>\n",
       "      <td>0</td>\n",
       "      <td>10238</td>\n",
       "      <td>11000.0</td>\n",
       "      <td>1</td>\n",
       "      <td>0</td>\n",
       "      <td>0</td>\n",
       "      <td>0</td>\n",
       "      <td>0</td>\n",
       "    </tr>\n",
       "    <tr>\n",
       "      <th>3</th>\n",
       "      <td>478866</td>\n",
       "      <td>0</td>\n",
       "      <td>1</td>\n",
       "      <td>1</td>\n",
       "      <td>0</td>\n",
       "      <td>2</td>\n",
       "      <td>1</td>\n",
       "      <td>0.206013</td>\n",
       "      <td>1</td>\n",
       "      <td>0</td>\n",
       "      <td>0</td>\n",
       "      <td>1</td>\n",
       "      <td>32765</td>\n",
       "      <td>11000.0</td>\n",
       "      <td>1</td>\n",
       "      <td>0</td>\n",
       "      <td>0</td>\n",
       "      <td>0</td>\n",
       "      <td>0</td>\n",
       "    </tr>\n",
       "    <tr>\n",
       "      <th>4</th>\n",
       "      <td>731664</td>\n",
       "      <td>1</td>\n",
       "      <td>1</td>\n",
       "      <td>1</td>\n",
       "      <td>1</td>\n",
       "      <td>0</td>\n",
       "      <td>1</td>\n",
       "      <td>0.388366</td>\n",
       "      <td>1</td>\n",
       "      <td>0</td>\n",
       "      <td>0</td>\n",
       "      <td>0</td>\n",
       "      <td>32765</td>\n",
       "      <td>12000.0</td>\n",
       "      <td>1</td>\n",
       "      <td>2</td>\n",
       "      <td>0</td>\n",
       "      <td>1</td>\n",
       "      <td>1</td>\n",
       "    </tr>\n",
       "  </tbody>\n",
       "</table>\n",
       "</div>"
      ],
      "text/plain": [
       "       id age gender race  ... speeding_violations DUIs past_accidents  outcome\n",
       "0  569520   3      0    1  ...                   0    0              0        0\n",
       "1  750365   0      1    1  ...                   0    0              0        1\n",
       "2  199901   0      0    1  ...                   0    0              0        0\n",
       "3  478866   0      1    1  ...                   0    0              0        0\n",
       "4  731664   1      1    1  ...                   2    0              1        1\n",
       "\n",
       "[5 rows x 19 columns]"
      ]
     },
     "execution_count": 44,
     "metadata": {
      "tags": []
     },
     "output_type": "execute_result"
    }
   ],
   "source": [
    "df.head()"
   ]
  },
  {
   "cell_type": "code",
   "execution_count": 45,
   "metadata": {
    "id": "10bE-AMNBLKC"
   },
   "outputs": [],
   "source": [
    "# Ans1. What proportion of customers with a credit score below 0.2 made a claim in the last year?\n",
    "\n",
    "claim=df[df['outcome']==1]\n",
    "not_claim=df[df['outcome']==0]"
   ]
  },
  {
   "cell_type": "code",
   "execution_count": 46,
   "metadata": {
    "colab": {
     "base_uri": "https://localhost:8080/"
    },
    "id": "oGquqNpHBVQI",
    "outputId": "4b92c6ea-1308-4980-b8eb-51d86400ef2f"
   },
   "outputs": [
    {
     "name": "stdout",
     "output_type": "stream",
     "text": [
      "(3133, 19) (6867, 19)\n"
     ]
    }
   ],
   "source": [
    "print(claim.shape,not_claim.shape)"
   ]
  },
  {
   "cell_type": "code",
   "execution_count": 47,
   "metadata": {
    "colab": {
     "base_uri": "https://localhost:8080/",
     "height": 224
    },
    "id": "bywUv0FxBYMA",
    "outputId": "3859e3e0-ee63-41ca-af0f-ce93938ca238"
   },
   "outputs": [
    {
     "data": {
      "text/html": [
       "<div>\n",
       "<style scoped>\n",
       "    .dataframe tbody tr th:only-of-type {\n",
       "        vertical-align: middle;\n",
       "    }\n",
       "\n",
       "    .dataframe tbody tr th {\n",
       "        vertical-align: top;\n",
       "    }\n",
       "\n",
       "    .dataframe thead th {\n",
       "        text-align: right;\n",
       "    }\n",
       "</style>\n",
       "<table border=\"1\" class=\"dataframe\">\n",
       "  <thead>\n",
       "    <tr style=\"text-align: right;\">\n",
       "      <th></th>\n",
       "      <th>id</th>\n",
       "      <th>age</th>\n",
       "      <th>gender</th>\n",
       "      <th>race</th>\n",
       "      <th>driving_experience</th>\n",
       "      <th>education</th>\n",
       "      <th>income</th>\n",
       "      <th>credit_score</th>\n",
       "      <th>vehicle_ownership</th>\n",
       "      <th>vehicle_year</th>\n",
       "      <th>married</th>\n",
       "      <th>children</th>\n",
       "      <th>postal_code</th>\n",
       "      <th>annual_mileage</th>\n",
       "      <th>vehicle_type</th>\n",
       "      <th>speeding_violations</th>\n",
       "      <th>DUIs</th>\n",
       "      <th>past_accidents</th>\n",
       "      <th>outcome</th>\n",
       "    </tr>\n",
       "  </thead>\n",
       "  <tbody>\n",
       "    <tr>\n",
       "      <th>1</th>\n",
       "      <td>750365</td>\n",
       "      <td>0</td>\n",
       "      <td>1</td>\n",
       "      <td>1</td>\n",
       "      <td>0</td>\n",
       "      <td>0</td>\n",
       "      <td>0</td>\n",
       "      <td>0.357757</td>\n",
       "      <td>0</td>\n",
       "      <td>0</td>\n",
       "      <td>0</td>\n",
       "      <td>0</td>\n",
       "      <td>10238</td>\n",
       "      <td>16000.0</td>\n",
       "      <td>1</td>\n",
       "      <td>0</td>\n",
       "      <td>0</td>\n",
       "      <td>0</td>\n",
       "      <td>1</td>\n",
       "    </tr>\n",
       "    <tr>\n",
       "      <th>4</th>\n",
       "      <td>731664</td>\n",
       "      <td>1</td>\n",
       "      <td>1</td>\n",
       "      <td>1</td>\n",
       "      <td>1</td>\n",
       "      <td>0</td>\n",
       "      <td>1</td>\n",
       "      <td>0.388366</td>\n",
       "      <td>1</td>\n",
       "      <td>0</td>\n",
       "      <td>0</td>\n",
       "      <td>0</td>\n",
       "      <td>32765</td>\n",
       "      <td>12000.0</td>\n",
       "      <td>1</td>\n",
       "      <td>2</td>\n",
       "      <td>0</td>\n",
       "      <td>1</td>\n",
       "      <td>1</td>\n",
       "    </tr>\n",
       "    <tr>\n",
       "      <th>7</th>\n",
       "      <td>461006</td>\n",
       "      <td>1</td>\n",
       "      <td>0</td>\n",
       "      <td>1</td>\n",
       "      <td>0</td>\n",
       "      <td>2</td>\n",
       "      <td>1</td>\n",
       "      <td>0.468689</td>\n",
       "      <td>0</td>\n",
       "      <td>1</td>\n",
       "      <td>0</td>\n",
       "      <td>1</td>\n",
       "      <td>10238</td>\n",
       "      <td>14000.0</td>\n",
       "      <td>1</td>\n",
       "      <td>0</td>\n",
       "      <td>0</td>\n",
       "      <td>0</td>\n",
       "      <td>1</td>\n",
       "    </tr>\n",
       "    <tr>\n",
       "      <th>9</th>\n",
       "      <td>445911</td>\n",
       "      <td>2</td>\n",
       "      <td>0</td>\n",
       "      <td>1</td>\n",
       "      <td>0</td>\n",
       "      <td>1</td>\n",
       "      <td>3</td>\n",
       "      <td>0.561531</td>\n",
       "      <td>1</td>\n",
       "      <td>0</td>\n",
       "      <td>0</td>\n",
       "      <td>1</td>\n",
       "      <td>32765</td>\n",
       "      <td>11000.0</td>\n",
       "      <td>1</td>\n",
       "      <td>0</td>\n",
       "      <td>0</td>\n",
       "      <td>0</td>\n",
       "      <td>1</td>\n",
       "    </tr>\n",
       "    <tr>\n",
       "      <th>17</th>\n",
       "      <td>24851</td>\n",
       "      <td>0</td>\n",
       "      <td>1</td>\n",
       "      <td>1</td>\n",
       "      <td>0</td>\n",
       "      <td>0</td>\n",
       "      <td>0</td>\n",
       "      <td>0.525033</td>\n",
       "      <td>0</td>\n",
       "      <td>0</td>\n",
       "      <td>1</td>\n",
       "      <td>0</td>\n",
       "      <td>32765</td>\n",
       "      <td>12000.0</td>\n",
       "      <td>1</td>\n",
       "      <td>0</td>\n",
       "      <td>0</td>\n",
       "      <td>0</td>\n",
       "      <td>1</td>\n",
       "    </tr>\n",
       "  </tbody>\n",
       "</table>\n",
       "</div>"
      ],
      "text/plain": [
       "        id age gender race  ... speeding_violations DUIs past_accidents  outcome\n",
       "1   750365   0      1    1  ...                   0    0              0        1\n",
       "4   731664   1      1    1  ...                   2    0              1        1\n",
       "7   461006   1      0    1  ...                   0    0              0        1\n",
       "9   445911   2      0    1  ...                   0    0              0        1\n",
       "17   24851   0      1    1  ...                   0    0              0        1\n",
       "\n",
       "[5 rows x 19 columns]"
      ]
     },
     "execution_count": 47,
     "metadata": {
      "tags": []
     },
     "output_type": "execute_result"
    }
   ],
   "source": [
    "claim.head()"
   ]
  },
  {
   "cell_type": "code",
   "execution_count": 48,
   "metadata": {
    "id": "yG6GeMalBdPX"
   },
   "outputs": [],
   "source": [
    "credit_score=claim[claim['credit_score']<0.2]"
   ]
  },
  {
   "cell_type": "code",
   "execution_count": 49,
   "metadata": {
    "colab": {
     "base_uri": "https://localhost:8080/",
     "height": 224
    },
    "id": "RZ2M1zSTBhNE",
    "outputId": "7d3c9695-0ded-488f-eaf3-a9db194bbd18"
   },
   "outputs": [
    {
     "data": {
      "text/html": [
       "<div>\n",
       "<style scoped>\n",
       "    .dataframe tbody tr th:only-of-type {\n",
       "        vertical-align: middle;\n",
       "    }\n",
       "\n",
       "    .dataframe tbody tr th {\n",
       "        vertical-align: top;\n",
       "    }\n",
       "\n",
       "    .dataframe thead th {\n",
       "        text-align: right;\n",
       "    }\n",
       "</style>\n",
       "<table border=\"1\" class=\"dataframe\">\n",
       "  <thead>\n",
       "    <tr style=\"text-align: right;\">\n",
       "      <th></th>\n",
       "      <th>id</th>\n",
       "      <th>age</th>\n",
       "      <th>gender</th>\n",
       "      <th>race</th>\n",
       "      <th>driving_experience</th>\n",
       "      <th>education</th>\n",
       "      <th>income</th>\n",
       "      <th>credit_score</th>\n",
       "      <th>vehicle_ownership</th>\n",
       "      <th>vehicle_year</th>\n",
       "      <th>married</th>\n",
       "      <th>children</th>\n",
       "      <th>postal_code</th>\n",
       "      <th>annual_mileage</th>\n",
       "      <th>vehicle_type</th>\n",
       "      <th>speeding_violations</th>\n",
       "      <th>DUIs</th>\n",
       "      <th>past_accidents</th>\n",
       "      <th>outcome</th>\n",
       "    </tr>\n",
       "  </thead>\n",
       "  <tbody>\n",
       "    <tr>\n",
       "      <th>187</th>\n",
       "      <td>431538</td>\n",
       "      <td>0</td>\n",
       "      <td>1</td>\n",
       "      <td>1</td>\n",
       "      <td>0</td>\n",
       "      <td>1</td>\n",
       "      <td>0</td>\n",
       "      <td>0.194150</td>\n",
       "      <td>0</td>\n",
       "      <td>0</td>\n",
       "      <td>1</td>\n",
       "      <td>0</td>\n",
       "      <td>10238</td>\n",
       "      <td>12000.0</td>\n",
       "      <td>0</td>\n",
       "      <td>0</td>\n",
       "      <td>0</td>\n",
       "      <td>0</td>\n",
       "      <td>1</td>\n",
       "    </tr>\n",
       "    <tr>\n",
       "      <th>210</th>\n",
       "      <td>112143</td>\n",
       "      <td>0</td>\n",
       "      <td>0</td>\n",
       "      <td>1</td>\n",
       "      <td>0</td>\n",
       "      <td>0</td>\n",
       "      <td>1</td>\n",
       "      <td>0.192427</td>\n",
       "      <td>0</td>\n",
       "      <td>0</td>\n",
       "      <td>0</td>\n",
       "      <td>1</td>\n",
       "      <td>32765</td>\n",
       "      <td>11000.0</td>\n",
       "      <td>1</td>\n",
       "      <td>0</td>\n",
       "      <td>0</td>\n",
       "      <td>0</td>\n",
       "      <td>1</td>\n",
       "    </tr>\n",
       "    <tr>\n",
       "      <th>279</th>\n",
       "      <td>124204</td>\n",
       "      <td>0</td>\n",
       "      <td>0</td>\n",
       "      <td>1</td>\n",
       "      <td>0</td>\n",
       "      <td>0</td>\n",
       "      <td>0</td>\n",
       "      <td>0.186185</td>\n",
       "      <td>0</td>\n",
       "      <td>0</td>\n",
       "      <td>0</td>\n",
       "      <td>0</td>\n",
       "      <td>10238</td>\n",
       "      <td>17000.0</td>\n",
       "      <td>1</td>\n",
       "      <td>0</td>\n",
       "      <td>0</td>\n",
       "      <td>0</td>\n",
       "      <td>1</td>\n",
       "    </tr>\n",
       "    <tr>\n",
       "      <th>294</th>\n",
       "      <td>232470</td>\n",
       "      <td>0</td>\n",
       "      <td>1</td>\n",
       "      <td>1</td>\n",
       "      <td>0</td>\n",
       "      <td>2</td>\n",
       "      <td>0</td>\n",
       "      <td>0.126453</td>\n",
       "      <td>1</td>\n",
       "      <td>0</td>\n",
       "      <td>0</td>\n",
       "      <td>1</td>\n",
       "      <td>10238</td>\n",
       "      <td>14000.0</td>\n",
       "      <td>1</td>\n",
       "      <td>0</td>\n",
       "      <td>0</td>\n",
       "      <td>0</td>\n",
       "      <td>1</td>\n",
       "    </tr>\n",
       "    <tr>\n",
       "      <th>880</th>\n",
       "      <td>66528</td>\n",
       "      <td>1</td>\n",
       "      <td>1</td>\n",
       "      <td>0</td>\n",
       "      <td>1</td>\n",
       "      <td>0</td>\n",
       "      <td>0</td>\n",
       "      <td>0.190250</td>\n",
       "      <td>0</td>\n",
       "      <td>0</td>\n",
       "      <td>0</td>\n",
       "      <td>1</td>\n",
       "      <td>10238</td>\n",
       "      <td>11000.0</td>\n",
       "      <td>1</td>\n",
       "      <td>0</td>\n",
       "      <td>0</td>\n",
       "      <td>1</td>\n",
       "      <td>1</td>\n",
       "    </tr>\n",
       "  </tbody>\n",
       "</table>\n",
       "</div>"
      ],
      "text/plain": [
       "         id age gender race  ... speeding_violations DUIs past_accidents  outcome\n",
       "187  431538   0      1    1  ...                   0    0              0        1\n",
       "210  112143   0      0    1  ...                   0    0              0        1\n",
       "279  124204   0      0    1  ...                   0    0              0        1\n",
       "294  232470   0      1    1  ...                   0    0              0        1\n",
       "880   66528   1      1    0  ...                   0    0              1        1\n",
       "\n",
       "[5 rows x 19 columns]"
      ]
     },
     "execution_count": 49,
     "metadata": {
      "tags": []
     },
     "output_type": "execute_result"
    }
   ],
   "source": [
    "credit_score.head()"
   ]
  },
  {
   "cell_type": "code",
   "execution_count": 50,
   "metadata": {
    "colab": {
     "base_uri": "https://localhost:8080/"
    },
    "id": "ddXhm9v_Bk5N",
    "outputId": "6a7f8e55-5145-45f2-b48d-4a92eb4c55fc"
   },
   "outputs": [
    {
     "data": {
      "text/plain": [
       "(59, 19)"
      ]
     },
     "execution_count": 50,
     "metadata": {
      "tags": []
     },
     "output_type": "execute_result"
    }
   ],
   "source": [
    "credit_score.shape"
   ]
  },
  {
   "cell_type": "code",
   "execution_count": 51,
   "metadata": {
    "colab": {
     "base_uri": "https://localhost:8080/"
    },
    "id": "pKRuHZBzBnep",
    "outputId": "2211baf4-1b16-4523-b756-0b2b5db270b2"
   },
   "outputs": [
    {
     "data": {
      "text/plain": [
       "0.59"
      ]
     },
     "execution_count": 51,
     "metadata": {
      "tags": []
     },
     "output_type": "execute_result"
    }
   ],
   "source": [
    "(59/10000)*100"
   ]
  },
  {
   "cell_type": "markdown",
   "metadata": {
    "id": "WBQYdrqYBrvB"
   },
   "source": [
    "## Deep Learning algorithm"
   ]
  },
  {
   "cell_type": "code",
   "execution_count": 52,
   "metadata": {
    "id": "qQcYEFIaBqXk"
   },
   "outputs": [],
   "source": [
    "# Transform Non numeric columns into Numeric columns\n",
    "\n",
    "from sklearn.preprocessing import LabelEncoder\n",
    "\n",
    "le=LabelEncoder()\n",
    "\n",
    "for column in df.columns:\n",
    "    if df[column].dtype==np.number:\n",
    "        continue\n",
    "    df[column]=le.fit_transform(df[column])"
   ]
  },
  {
   "cell_type": "code",
   "execution_count": 53,
   "metadata": {
    "colab": {
     "base_uri": "https://localhost:8080/",
     "height": 224
    },
    "id": "6Kn06JiOB47s",
    "outputId": "b74a1082-9477-4cd5-8051-04fe40eb0a61"
   },
   "outputs": [
    {
     "data": {
      "text/html": [
       "<div>\n",
       "<style scoped>\n",
       "    .dataframe tbody tr th:only-of-type {\n",
       "        vertical-align: middle;\n",
       "    }\n",
       "\n",
       "    .dataframe tbody tr th {\n",
       "        vertical-align: top;\n",
       "    }\n",
       "\n",
       "    .dataframe thead th {\n",
       "        text-align: right;\n",
       "    }\n",
       "</style>\n",
       "<table border=\"1\" class=\"dataframe\">\n",
       "  <thead>\n",
       "    <tr style=\"text-align: right;\">\n",
       "      <th></th>\n",
       "      <th>id</th>\n",
       "      <th>age</th>\n",
       "      <th>gender</th>\n",
       "      <th>race</th>\n",
       "      <th>driving_experience</th>\n",
       "      <th>education</th>\n",
       "      <th>income</th>\n",
       "      <th>credit_score</th>\n",
       "      <th>vehicle_ownership</th>\n",
       "      <th>vehicle_year</th>\n",
       "      <th>married</th>\n",
       "      <th>children</th>\n",
       "      <th>postal_code</th>\n",
       "      <th>annual_mileage</th>\n",
       "      <th>vehicle_type</th>\n",
       "      <th>speeding_violations</th>\n",
       "      <th>DUIs</th>\n",
       "      <th>past_accidents</th>\n",
       "    </tr>\n",
       "  </thead>\n",
       "  <tbody>\n",
       "    <tr>\n",
       "      <th>0</th>\n",
       "      <td>5691</td>\n",
       "      <td>3</td>\n",
       "      <td>0</td>\n",
       "      <td>1</td>\n",
       "      <td>0</td>\n",
       "      <td>1</td>\n",
       "      <td>3</td>\n",
       "      <td>0.629027</td>\n",
       "      <td>1</td>\n",
       "      <td>1</td>\n",
       "      <td>0</td>\n",
       "      <td>1</td>\n",
       "      <td>0</td>\n",
       "      <td>12000.0</td>\n",
       "      <td>1</td>\n",
       "      <td>0</td>\n",
       "      <td>0</td>\n",
       "      <td>0</td>\n",
       "    </tr>\n",
       "    <tr>\n",
       "      <th>1</th>\n",
       "      <td>7466</td>\n",
       "      <td>0</td>\n",
       "      <td>1</td>\n",
       "      <td>1</td>\n",
       "      <td>0</td>\n",
       "      <td>0</td>\n",
       "      <td>0</td>\n",
       "      <td>0.357757</td>\n",
       "      <td>0</td>\n",
       "      <td>0</td>\n",
       "      <td>0</td>\n",
       "      <td>0</td>\n",
       "      <td>0</td>\n",
       "      <td>16000.0</td>\n",
       "      <td>1</td>\n",
       "      <td>0</td>\n",
       "      <td>0</td>\n",
       "      <td>0</td>\n",
       "    </tr>\n",
       "    <tr>\n",
       "      <th>2</th>\n",
       "      <td>2009</td>\n",
       "      <td>0</td>\n",
       "      <td>0</td>\n",
       "      <td>1</td>\n",
       "      <td>0</td>\n",
       "      <td>1</td>\n",
       "      <td>1</td>\n",
       "      <td>0.493146</td>\n",
       "      <td>1</td>\n",
       "      <td>0</td>\n",
       "      <td>0</td>\n",
       "      <td>0</td>\n",
       "      <td>0</td>\n",
       "      <td>11000.0</td>\n",
       "      <td>1</td>\n",
       "      <td>0</td>\n",
       "      <td>0</td>\n",
       "      <td>0</td>\n",
       "    </tr>\n",
       "    <tr>\n",
       "      <th>3</th>\n",
       "      <td>4775</td>\n",
       "      <td>0</td>\n",
       "      <td>1</td>\n",
       "      <td>1</td>\n",
       "      <td>0</td>\n",
       "      <td>2</td>\n",
       "      <td>1</td>\n",
       "      <td>0.206013</td>\n",
       "      <td>1</td>\n",
       "      <td>0</td>\n",
       "      <td>0</td>\n",
       "      <td>1</td>\n",
       "      <td>2</td>\n",
       "      <td>11000.0</td>\n",
       "      <td>1</td>\n",
       "      <td>0</td>\n",
       "      <td>0</td>\n",
       "      <td>0</td>\n",
       "    </tr>\n",
       "    <tr>\n",
       "      <th>4</th>\n",
       "      <td>7258</td>\n",
       "      <td>1</td>\n",
       "      <td>1</td>\n",
       "      <td>1</td>\n",
       "      <td>1</td>\n",
       "      <td>0</td>\n",
       "      <td>1</td>\n",
       "      <td>0.388366</td>\n",
       "      <td>1</td>\n",
       "      <td>0</td>\n",
       "      <td>0</td>\n",
       "      <td>0</td>\n",
       "      <td>2</td>\n",
       "      <td>12000.0</td>\n",
       "      <td>1</td>\n",
       "      <td>2</td>\n",
       "      <td>0</td>\n",
       "      <td>1</td>\n",
       "    </tr>\n",
       "  </tbody>\n",
       "</table>\n",
       "</div>"
      ],
      "text/plain": [
       "     id  age  gender  ...  speeding_violations  DUIs  past_accidents\n",
       "0  5691    3       0  ...                    0     0               0\n",
       "1  7466    0       1  ...                    0     0               0\n",
       "2  2009    0       0  ...                    0     0               0\n",
       "3  4775    0       1  ...                    0     0               0\n",
       "4  7258    1       1  ...                    2     0               1\n",
       "\n",
       "[5 rows x 18 columns]"
      ]
     },
     "execution_count": 53,
     "metadata": {
      "tags": []
     },
     "output_type": "execute_result"
    }
   ],
   "source": [
    "#Splitting the data into input and output variable.\n",
    "X=df.drop(columns=['outcome'],axis=1)\n",
    "X.head()"
   ]
  },
  {
   "cell_type": "code",
   "execution_count": 54,
   "metadata": {
    "colab": {
     "base_uri": "https://localhost:8080/"
    },
    "id": "6zXB_HURB8OT",
    "outputId": "34294ec9-3923-4824-d284-80094cebc9ff"
   },
   "outputs": [
    {
     "data": {
      "text/plain": [
       "0    0\n",
       "1    1\n",
       "2    0\n",
       "3    0\n",
       "4    1\n",
       "Name: outcome, dtype: int64"
      ]
     },
     "execution_count": 54,
     "metadata": {
      "tags": []
     },
     "output_type": "execute_result"
    }
   ],
   "source": [
    "y=df['outcome']\n",
    "y.head()"
   ]
  },
  {
   "cell_type": "code",
   "execution_count": 55,
   "metadata": {
    "id": "najJ5rdQCBBO"
   },
   "outputs": [],
   "source": [
    "# Splitting the dataset into train and test\n",
    "from sklearn.model_selection import train_test_split\n",
    "X_train, X_test, y_train, y_test = train_test_split(X, y, test_size = .20, random_state=42)"
   ]
  },
  {
   "cell_type": "code",
   "execution_count": 56,
   "metadata": {
    "colab": {
     "base_uri": "https://localhost:8080/"
    },
    "id": "OWWXda9DCFmm",
    "outputId": "1f3b4f63-6d04-48d5-dffe-8b0c8a156689"
   },
   "outputs": [
    {
     "data": {
      "text/plain": [
       "(8000, 2000, 8000, 2000)"
      ]
     },
     "execution_count": 56,
     "metadata": {
      "tags": []
     },
     "output_type": "execute_result"
    }
   ],
   "source": [
    "len(X_train), len(X_test), len(y_train), len(y_test)"
   ]
  },
  {
   "cell_type": "code",
   "execution_count": 57,
   "metadata": {
    "id": "oqf08y5MCIV3"
   },
   "outputs": [],
   "source": [
    "# Scaling the data before feeding the model\n",
    "from sklearn.preprocessing import StandardScaler\n",
    "scaler_train = StandardScaler()\n",
    "X_train = scaler_train.fit_transform(X_train)\n",
    "\n",
    "scaler_test = StandardScaler()\n",
    "X_test = scaler_test.fit_transform(X_test)"
   ]
  },
  {
   "cell_type": "code",
   "execution_count": 58,
   "metadata": {
    "colab": {
     "base_uri": "https://localhost:8080/"
    },
    "id": "BRrFbEueCMfa",
    "outputId": "bf76a7dd-1a1c-4bfe-a7ab-09a6bc5ecf35"
   },
   "outputs": [
    {
     "name": "stdout",
     "output_type": "stream",
     "text": [
      "2.5.0\n"
     ]
    }
   ],
   "source": [
    "# Importing the tensorflow library\n",
    "import tensorflow as tf\n",
    "print(tf.__version__)"
   ]
  },
  {
   "cell_type": "code",
   "execution_count": 59,
   "metadata": {
    "colab": {
     "base_uri": "https://localhost:8080/"
    },
    "id": "fmiuCYg7CYFz",
    "outputId": "bc59e7c1-2712-4917-e095-e10f097544d3"
   },
   "outputs": [
    {
     "name": "stdout",
     "output_type": "stream",
     "text": [
      "Epoch 1/30\n",
      "250/250 [==============================] - 1s 877us/step - loss: 0.3777 - accuracy: 0.8284\n",
      "Epoch 2/30\n",
      "250/250 [==============================] - 0s 1ms/step - loss: 0.3500 - accuracy: 0.8446\n",
      "Epoch 3/30\n",
      "250/250 [==============================] - 0s 933us/step - loss: 0.3452 - accuracy: 0.8446\n",
      "Epoch 4/30\n",
      "250/250 [==============================] - 0s 891us/step - loss: 0.3427 - accuracy: 0.8478\n",
      "Epoch 5/30\n",
      "250/250 [==============================] - 0s 899us/step - loss: 0.3409 - accuracy: 0.8456\n",
      "Epoch 6/30\n",
      "250/250 [==============================] - 0s 882us/step - loss: 0.3370 - accuracy: 0.8501\n",
      "Epoch 7/30\n",
      "250/250 [==============================] - 0s 860us/step - loss: 0.3343 - accuracy: 0.8440\n",
      "Epoch 8/30\n",
      "250/250 [==============================] - 0s 869us/step - loss: 0.3322 - accuracy: 0.8501\n",
      "Epoch 9/30\n",
      "250/250 [==============================] - 0s 935us/step - loss: 0.3301 - accuracy: 0.8456\n",
      "Epoch 10/30\n",
      "250/250 [==============================] - 0s 900us/step - loss: 0.3265 - accuracy: 0.8487\n",
      "Epoch 11/30\n",
      "250/250 [==============================] - 0s 911us/step - loss: 0.3273 - accuracy: 0.8489\n",
      "Epoch 12/30\n",
      "250/250 [==============================] - 0s 838us/step - loss: 0.3266 - accuracy: 0.8493\n",
      "Epoch 13/30\n",
      "250/250 [==============================] - 0s 872us/step - loss: 0.3257 - accuracy: 0.8459\n",
      "Epoch 14/30\n",
      "250/250 [==============================] - 0s 900us/step - loss: 0.3246 - accuracy: 0.8486\n",
      "Epoch 15/30\n",
      "250/250 [==============================] - 0s 1ms/step - loss: 0.3245 - accuracy: 0.8455\n",
      "Epoch 16/30\n",
      "250/250 [==============================] - 0s 931us/step - loss: 0.3230 - accuracy: 0.8487\n",
      "Epoch 17/30\n",
      "250/250 [==============================] - 0s 888us/step - loss: 0.3221 - accuracy: 0.8478\n",
      "Epoch 18/30\n",
      "250/250 [==============================] - 0s 906us/step - loss: 0.3232 - accuracy: 0.8495\n",
      "Epoch 19/30\n",
      "250/250 [==============================] - 0s 852us/step - loss: 0.3208 - accuracy: 0.8497\n",
      "Epoch 20/30\n",
      "250/250 [==============================] - 0s 910us/step - loss: 0.3206 - accuracy: 0.8530\n",
      "Epoch 21/30\n",
      "250/250 [==============================] - 0s 911us/step - loss: 0.3214 - accuracy: 0.8497\n",
      "Epoch 22/30\n",
      "250/250 [==============================] - 0s 897us/step - loss: 0.3191 - accuracy: 0.8543\n",
      "Epoch 23/30\n",
      "250/250 [==============================] - 0s 930us/step - loss: 0.3193 - accuracy: 0.8521\n",
      "Epoch 24/30\n",
      "250/250 [==============================] - 0s 944us/step - loss: 0.3181 - accuracy: 0.8564\n",
      "Epoch 25/30\n",
      "250/250 [==============================] - 0s 906us/step - loss: 0.3179 - accuracy: 0.8522\n",
      "Epoch 26/30\n",
      "250/250 [==============================] - 0s 939us/step - loss: 0.3194 - accuracy: 0.8522\n",
      "Epoch 27/30\n",
      "250/250 [==============================] - 0s 885us/step - loss: 0.3164 - accuracy: 0.8544\n",
      "Epoch 28/30\n",
      "250/250 [==============================] - 0s 933us/step - loss: 0.3172 - accuracy: 0.8533\n",
      "Epoch 29/30\n",
      "250/250 [==============================] - 0s 914us/step - loss: 0.3184 - accuracy: 0.8528\n",
      "Epoch 30/30\n",
      "250/250 [==============================] - 0s 881us/step - loss: 0.3168 - accuracy: 0.8554\n"
     ]
    }
   ],
   "source": [
    "# Let's create a model to fit on the training data and evaluate on the testing data\n",
    "\n",
    "# Set random seed\n",
    "tf.random.set_seed(42)\n",
    "\n",
    "# 1. Create a model \n",
    "model = tf.keras.Sequential([\n",
    "    tf.keras.layers.Dense(10, activation='relu'),\n",
    "    tf.keras.layers.Dense(8, activation='relu'),\n",
    "    tf.keras.layers.Dense(1, activation='sigmoid')\n",
    "])\n",
    "\n",
    "# 2. Compile the model\n",
    "model.compile(loss=tf.keras.losses.BinaryCrossentropy(),\n",
    "              optimizer = tf.keras.optimizers.Adam(lr=0.01),\n",
    "              metrics=['accuracy'])\n",
    "\n",
    "# 3. Fit the model\n",
    "history = model.fit(X_train, y_train, epochs= 30)"
   ]
  },
  {
   "cell_type": "code",
   "execution_count": 60,
   "metadata": {
    "colab": {
     "base_uri": "https://localhost:8080/"
    },
    "id": "Pzp13IdoCcXm",
    "outputId": "3fa77e0c-b139-4605-cba5-b506b89ebc0c"
   },
   "outputs": [
    {
     "name": "stdout",
     "output_type": "stream",
     "text": [
      "63/63 [==============================] - 0s 665us/step - loss: 0.3550 - accuracy: 0.8365\n"
     ]
    },
    {
     "data": {
      "text/plain": [
       "[0.35502007603645325, 0.8364999890327454]"
      ]
     },
     "execution_count": 60,
     "metadata": {
      "tags": []
     },
     "output_type": "execute_result"
    }
   ],
   "source": [
    "# Evaluate the model on the test dataset\n",
    "model.evaluate(X_test, y_test)"
   ]
  },
  {
   "cell_type": "code",
   "execution_count": 61,
   "metadata": {
    "colab": {
     "base_uri": "https://localhost:8080/",
     "height": 298
    },
    "id": "xJjxiODwChLl",
    "outputId": "30f589e5-7bf2-43af-f19e-8fd7ab8940c7"
   },
   "outputs": [
    {
     "data": {
      "text/plain": [
       "Text(0.5, 1.0, 'Model loss curves')"
      ]
     },
     "execution_count": 61,
     "metadata": {
      "tags": []
     },
     "output_type": "execute_result"
    },
    {
     "data": {
      "image/png": "[encoded data removed]",
      "text/plain": [
       "<Figure size 432x288 with 1 Axes>"
      ]
     },
     "metadata": {
      "needs_background": "light",
      "tags": []
     },
     "output_type": "display_data"
    }
   ],
   "source": [
    "# Plot the loss curves\n",
    "pd.DataFrame(history.history).plot()\n",
    "plt.title(\"Model loss curves\")"
   ]
  },
  {
   "cell_type": "code",
   "execution_count": 62,
   "metadata": {
    "colab": {
     "base_uri": "https://localhost:8080/"
    },
    "id": "P0-rqAjYCkiU",
    "outputId": "2457cc85-30d4-46e8-a1cc-d1abbc4f530e"
   },
   "outputs": [
    {
     "name": "stdout",
     "output_type": "stream",
     "text": [
      "Epoch 1/80\n",
      "250/250 [==============================] - 1s 2ms/step - loss: 0.6477 - accuracy: 0.6423 - val_loss: 0.6080 - val_accuracy: 0.6850\n",
      "Epoch 2/80\n",
      "250/250 [==============================] - 0s 1ms/step - loss: 0.5652 - accuracy: 0.7078 - val_loss: 0.5376 - val_accuracy: 0.7385\n",
      "Epoch 3/80\n",
      "250/250 [==============================] - 0s 1ms/step - loss: 0.5000 - accuracy: 0.7666 - val_loss: 0.4845 - val_accuracy: 0.7800\n",
      "Epoch 4/80\n",
      "250/250 [==============================] - 0s 1ms/step - loss: 0.4523 - accuracy: 0.7964 - val_loss: 0.4487 - val_accuracy: 0.7915\n",
      "Epoch 5/80\n",
      "250/250 [==============================] - 0s 972us/step - loss: 0.4203 - accuracy: 0.8092 - val_loss: 0.4266 - val_accuracy: 0.8055\n",
      "Epoch 6/80\n",
      "250/250 [==============================] - 0s 1ms/step - loss: 0.4009 - accuracy: 0.8175 - val_loss: 0.4141 - val_accuracy: 0.8125\n",
      "Epoch 7/80\n",
      "250/250 [==============================] - 0s 1ms/step - loss: 0.3889 - accuracy: 0.8217 - val_loss: 0.4060 - val_accuracy: 0.8110\n",
      "Epoch 8/80\n",
      "250/250 [==============================] - 0s 1ms/step - loss: 0.3809 - accuracy: 0.8250 - val_loss: 0.4009 - val_accuracy: 0.8120\n",
      "Epoch 9/80\n",
      "250/250 [==============================] - 0s 1ms/step - loss: 0.3752 - accuracy: 0.8273 - val_loss: 0.3961 - val_accuracy: 0.8145\n",
      "Epoch 10/80\n",
      "250/250 [==============================] - 0s 1ms/step - loss: 0.3707 - accuracy: 0.8286 - val_loss: 0.3924 - val_accuracy: 0.8185\n",
      "Epoch 11/80\n",
      "250/250 [==============================] - 0s 1ms/step - loss: 0.3667 - accuracy: 0.8309 - val_loss: 0.3889 - val_accuracy: 0.8155\n",
      "Epoch 12/80\n",
      "250/250 [==============================] - 0s 1ms/step - loss: 0.3634 - accuracy: 0.8350 - val_loss: 0.3859 - val_accuracy: 0.8220\n",
      "Epoch 13/80\n",
      "250/250 [==============================] - 0s 1ms/step - loss: 0.3602 - accuracy: 0.8384 - val_loss: 0.3839 - val_accuracy: 0.8225\n",
      "Epoch 14/80\n",
      "250/250 [==============================] - 0s 1ms/step - loss: 0.3576 - accuracy: 0.8395 - val_loss: 0.3811 - val_accuracy: 0.8225\n",
      "Epoch 15/80\n",
      "250/250 [==============================] - 0s 1ms/step - loss: 0.3550 - accuracy: 0.8429 - val_loss: 0.3787 - val_accuracy: 0.8245\n",
      "Epoch 16/80\n",
      "250/250 [==============================] - 0s 1ms/step - loss: 0.3528 - accuracy: 0.8434 - val_loss: 0.3768 - val_accuracy: 0.8260\n",
      "Epoch 17/80\n",
      "250/250 [==============================] - 0s 1ms/step - loss: 0.3511 - accuracy: 0.8443 - val_loss: 0.3760 - val_accuracy: 0.8260\n",
      "Epoch 18/80\n",
      "250/250 [==============================] - 0s 1ms/step - loss: 0.3492 - accuracy: 0.8455 - val_loss: 0.3742 - val_accuracy: 0.8285\n",
      "Epoch 19/80\n",
      "250/250 [==============================] - 0s 1ms/step - loss: 0.3474 - accuracy: 0.8478 - val_loss: 0.3720 - val_accuracy: 0.8320\n",
      "Epoch 20/80\n",
      "250/250 [==============================] - 0s 1ms/step - loss: 0.3459 - accuracy: 0.8468 - val_loss: 0.3730 - val_accuracy: 0.8300\n",
      "Epoch 21/80\n",
      "250/250 [==============================] - 0s 1ms/step - loss: 0.3449 - accuracy: 0.8474 - val_loss: 0.3701 - val_accuracy: 0.8310\n",
      "Epoch 22/80\n",
      "250/250 [==============================] - 0s 1ms/step - loss: 0.3434 - accuracy: 0.8474 - val_loss: 0.3677 - val_accuracy: 0.8340\n",
      "Epoch 23/80\n",
      "250/250 [==============================] - 0s 1ms/step - loss: 0.3428 - accuracy: 0.8474 - val_loss: 0.3671 - val_accuracy: 0.8345\n",
      "Epoch 24/80\n",
      "250/250 [==============================] - 0s 1ms/step - loss: 0.3418 - accuracy: 0.8471 - val_loss: 0.3679 - val_accuracy: 0.8340\n",
      "Epoch 25/80\n",
      "250/250 [==============================] - 0s 1ms/step - loss: 0.3410 - accuracy: 0.8496 - val_loss: 0.3662 - val_accuracy: 0.8330\n",
      "Epoch 26/80\n",
      "250/250 [==============================] - 0s 1ms/step - loss: 0.3405 - accuracy: 0.8486 - val_loss: 0.3647 - val_accuracy: 0.8350\n",
      "Epoch 27/80\n",
      "250/250 [==============================] - 0s 1ms/step - loss: 0.3393 - accuracy: 0.8501 - val_loss: 0.3704 - val_accuracy: 0.8350\n",
      "Epoch 28/80\n",
      "250/250 [==============================] - 0s 1ms/step - loss: 0.3391 - accuracy: 0.8504 - val_loss: 0.3669 - val_accuracy: 0.8375\n",
      "Epoch 29/80\n",
      "250/250 [==============================] - 0s 1ms/step - loss: 0.3388 - accuracy: 0.8503 - val_loss: 0.3638 - val_accuracy: 0.8355\n",
      "Epoch 30/80\n",
      "250/250 [==============================] - 0s 1ms/step - loss: 0.3381 - accuracy: 0.8504 - val_loss: 0.3656 - val_accuracy: 0.8370\n",
      "Epoch 31/80\n",
      "250/250 [==============================] - 0s 1ms/step - loss: 0.3382 - accuracy: 0.8496 - val_loss: 0.3692 - val_accuracy: 0.8350\n",
      "Epoch 32/80\n",
      "250/250 [==============================] - 0s 1ms/step - loss: 0.3369 - accuracy: 0.8485 - val_loss: 0.3627 - val_accuracy: 0.8375\n",
      "Epoch 33/80\n",
      "250/250 [==============================] - 0s 1ms/step - loss: 0.3361 - accuracy: 0.8490 - val_loss: 0.3619 - val_accuracy: 0.8415\n",
      "Epoch 34/80\n",
      "250/250 [==============================] - 0s 1ms/step - loss: 0.3358 - accuracy: 0.8482 - val_loss: 0.3660 - val_accuracy: 0.8360\n",
      "Epoch 35/80\n",
      "250/250 [==============================] - 0s 1ms/step - loss: 0.3347 - accuracy: 0.8486 - val_loss: 0.3608 - val_accuracy: 0.8370\n",
      "Epoch 36/80\n",
      "250/250 [==============================] - 0s 1ms/step - loss: 0.3347 - accuracy: 0.8474 - val_loss: 0.3657 - val_accuracy: 0.8310\n",
      "Epoch 37/80\n",
      "250/250 [==============================] - 0s 1ms/step - loss: 0.3348 - accuracy: 0.8494 - val_loss: 0.3637 - val_accuracy: 0.8415\n",
      "Epoch 38/80\n",
      "250/250 [==============================] - 0s 1ms/step - loss: 0.3338 - accuracy: 0.8495 - val_loss: 0.3589 - val_accuracy: 0.8365\n",
      "Epoch 39/80\n",
      "250/250 [==============================] - 0s 1ms/step - loss: 0.3337 - accuracy: 0.8485 - val_loss: 0.3524 - val_accuracy: 0.8400\n",
      "Epoch 40/80\n",
      "250/250 [==============================] - 0s 1ms/step - loss: 0.3321 - accuracy: 0.8484 - val_loss: 0.3561 - val_accuracy: 0.8380\n",
      "Epoch 41/80\n",
      "250/250 [==============================] - 0s 1ms/step - loss: 0.3311 - accuracy: 0.8461 - val_loss: 0.3469 - val_accuracy: 0.8430\n",
      "Epoch 42/80\n",
      "250/250 [==============================] - 0s 1ms/step - loss: 0.3296 - accuracy: 0.8471 - val_loss: 0.3475 - val_accuracy: 0.8425\n",
      "Epoch 43/80\n",
      "250/250 [==============================] - 0s 1ms/step - loss: 0.3292 - accuracy: 0.8466 - val_loss: 0.3483 - val_accuracy: 0.8365\n",
      "Epoch 44/80\n",
      "250/250 [==============================] - 0s 1ms/step - loss: 0.3319 - accuracy: 0.8443 - val_loss: 0.3540 - val_accuracy: 0.8400\n",
      "Epoch 45/80\n",
      "250/250 [==============================] - 0s 1ms/step - loss: 0.3308 - accuracy: 0.8518 - val_loss: 0.3517 - val_accuracy: 0.8325\n",
      "Epoch 46/80\n",
      "250/250 [==============================] - 0s 1ms/step - loss: 0.3314 - accuracy: 0.8479 - val_loss: 0.3430 - val_accuracy: 0.8395\n",
      "Epoch 47/80\n",
      "250/250 [==============================] - 0s 1ms/step - loss: 0.3305 - accuracy: 0.8493 - val_loss: 0.3506 - val_accuracy: 0.8305\n",
      "Epoch 48/80\n",
      "250/250 [==============================] - 0s 1ms/step - loss: 0.3325 - accuracy: 0.8493 - val_loss: 0.3526 - val_accuracy: 0.8455\n",
      "Epoch 49/80\n",
      "250/250 [==============================] - 0s 1ms/step - loss: 0.3340 - accuracy: 0.8489 - val_loss: 0.3491 - val_accuracy: 0.8465\n",
      "Epoch 50/80\n",
      "250/250 [==============================] - 0s 1ms/step - loss: 0.3336 - accuracy: 0.8486 - val_loss: 0.3461 - val_accuracy: 0.8405\n",
      "Epoch 51/80\n",
      "250/250 [==============================] - 0s 1ms/step - loss: 0.3368 - accuracy: 0.8468 - val_loss: 0.3460 - val_accuracy: 0.8350\n",
      "Epoch 52/80\n",
      "250/250 [==============================] - 0s 1ms/step - loss: 0.3353 - accuracy: 0.8484 - val_loss: 0.3535 - val_accuracy: 0.8440\n",
      "Epoch 53/80\n",
      "250/250 [==============================] - 0s 1ms/step - loss: 0.3388 - accuracy: 0.8506 - val_loss: 0.3592 - val_accuracy: 0.8310\n",
      "Epoch 54/80\n",
      "250/250 [==============================] - 0s 1ms/step - loss: 0.3391 - accuracy: 0.8468 - val_loss: 0.3689 - val_accuracy: 0.8315\n",
      "Epoch 55/80\n",
      "250/250 [==============================] - 0s 1ms/step - loss: 0.3463 - accuracy: 0.8396 - val_loss: 0.3572 - val_accuracy: 0.8330\n",
      "Epoch 56/80\n",
      "250/250 [==============================] - 0s 1ms/step - loss: 0.3470 - accuracy: 0.8364 - val_loss: 0.3506 - val_accuracy: 0.8340\n",
      "Epoch 57/80\n",
      "250/250 [==============================] - 0s 1ms/step - loss: 0.3479 - accuracy: 0.8338 - val_loss: 0.3818 - val_accuracy: 0.8405\n",
      "Epoch 58/80\n",
      "250/250 [==============================] - 0s 1ms/step - loss: 0.3488 - accuracy: 0.8404 - val_loss: 0.3592 - val_accuracy: 0.8320\n",
      "Epoch 59/80\n",
      "250/250 [==============================] - 0s 1ms/step - loss: 0.3575 - accuracy: 0.8320 - val_loss: 0.3538 - val_accuracy: 0.8285\n",
      "Epoch 60/80\n",
      "250/250 [==============================] - 0s 1ms/step - loss: 0.3534 - accuracy: 0.8403 - val_loss: 0.3649 - val_accuracy: 0.8270\n",
      "Epoch 61/80\n",
      "250/250 [==============================] - 0s 1ms/step - loss: 0.3618 - accuracy: 0.8342 - val_loss: 0.3661 - val_accuracy: 0.8265\n",
      "Epoch 62/80\n",
      "250/250 [==============================] - 0s 1ms/step - loss: 0.3633 - accuracy: 0.8360 - val_loss: 0.3441 - val_accuracy: 0.8400\n",
      "Epoch 63/80\n",
      "250/250 [==============================] - 0s 1ms/step - loss: 0.3808 - accuracy: 0.8198 - val_loss: 0.4116 - val_accuracy: 0.8255\n",
      "Epoch 64/80\n",
      "250/250 [==============================] - 0s 1ms/step - loss: 0.3937 - accuracy: 0.8276 - val_loss: 0.3874 - val_accuracy: 0.8405\n",
      "Epoch 65/80\n",
      "250/250 [==============================] - 0s 1ms/step - loss: 0.3941 - accuracy: 0.8280 - val_loss: 0.3787 - val_accuracy: 0.8310\n",
      "Epoch 66/80\n",
      "250/250 [==============================] - 0s 1ms/step - loss: 0.4156 - accuracy: 0.8083 - val_loss: 0.4795 - val_accuracy: 0.7990\n",
      "Epoch 67/80\n",
      "250/250 [==============================] - 0s 1ms/step - loss: 0.4445 - accuracy: 0.8012 - val_loss: 0.4706 - val_accuracy: 0.7945\n",
      "Epoch 68/80\n",
      "250/250 [==============================] - 0s 1ms/step - loss: 0.4654 - accuracy: 0.7822 - val_loss: 0.4425 - val_accuracy: 0.7995\n",
      "Epoch 69/80\n",
      "250/250 [==============================] - 0s 1ms/step - loss: 0.4470 - accuracy: 0.7993 - val_loss: 0.4333 - val_accuracy: 0.7990\n",
      "Epoch 70/80\n",
      "250/250 [==============================] - 0s 1ms/step - loss: 0.4737 - accuracy: 0.7968 - val_loss: 0.4438 - val_accuracy: 0.8080\n",
      "Epoch 71/80\n",
      "250/250 [==============================] - 0s 1ms/step - loss: 0.4661 - accuracy: 0.7775 - val_loss: 0.4588 - val_accuracy: 0.7935\n",
      "Epoch 72/80\n",
      "250/250 [==============================] - 0s 1ms/step - loss: 0.4818 - accuracy: 0.7871 - val_loss: 0.5032 - val_accuracy: 0.7940\n",
      "Epoch 73/80\n",
      "250/250 [==============================] - 0s 1ms/step - loss: 0.4592 - accuracy: 0.8073 - val_loss: 0.4828 - val_accuracy: 0.8060\n",
      "Epoch 74/80\n",
      "250/250 [==============================] - 0s 1ms/step - loss: 0.4843 - accuracy: 0.7911 - val_loss: 0.4902 - val_accuracy: 0.8010\n",
      "Epoch 75/80\n",
      "250/250 [==============================] - 0s 1ms/step - loss: 0.4926 - accuracy: 0.7861 - val_loss: 0.5221 - val_accuracy: 0.7985\n",
      "Epoch 76/80\n",
      "250/250 [==============================] - 0s 1ms/step - loss: 0.5075 - accuracy: 0.7822 - val_loss: 0.5216 - val_accuracy: 0.7980\n",
      "Epoch 77/80\n",
      "250/250 [==============================] - 0s 1ms/step - loss: 0.5170 - accuracy: 0.7781 - val_loss: 0.4994 - val_accuracy: 0.7875\n",
      "Epoch 78/80\n",
      "250/250 [==============================] - 0s 1ms/step - loss: 0.5229 - accuracy: 0.7651 - val_loss: 0.4871 - val_accuracy: 0.7955\n",
      "Epoch 79/80\n",
      "250/250 [==============================] - 0s 1ms/step - loss: 0.5110 - accuracy: 0.7706 - val_loss: 0.5018 - val_accuracy: 0.8075\n",
      "Epoch 80/80\n",
      "250/250 [==============================] - 0s 1ms/step - loss: 0.5233 - accuracy: 0.7732 - val_loss: 0.5230 - val_accuracy: 0.7955\n"
     ]
    }
   ],
   "source": [
    "# Let's create a model to fit on the training data and evaluate on the testing data\n",
    "\n",
    "# Set random seed\n",
    "tf.random.set_seed(42)\n",
    "\n",
    "# 1. Create a model \n",
    "model_1 = tf.keras.Sequential([\n",
    "    tf.keras.layers.Dense(10, activation='relu'),\n",
    "    tf.keras.layers.Dense(8, activation='relu'),\n",
    "    tf.keras.layers.Dense(1, activation='sigmoid')\n",
    "])\n",
    "\n",
    "# 2. Compile the model\n",
    "model_1.compile(loss=tf.keras.losses.BinaryCrossentropy(),\n",
    "              optimizer = tf.keras.optimizers.Adam(),\n",
    "              metrics=['accuracy'])\n",
    "\n",
    "# Create a learning rate callback\n",
    "lr_schedular = tf.keras.callbacks.LearningRateScheduler(lambda epoch: 1e-4 * (10**(epoch/20)))\n",
    "\n",
    "# 3. Fit the model\n",
    "history_1 = model_1.fit(X_train, \n",
    "                      y_train,\n",
    "                      validation_data = (X_test, y_test),\n",
    "                      batch_size = 32,\n",
    "                      epochs = 80,\n",
    "                      callbacks=[lr_schedular])"
   ]
  },
  {
   "cell_type": "code",
   "execution_count": 63,
   "metadata": {
    "colab": {
     "base_uri": "https://localhost:8080/",
     "height": 459
    },
    "id": "rNv4tGS0CuJQ",
    "outputId": "919c2717-ae33-4c2a-a293-9c64967c5c66"
   },
   "outputs": [
    {
     "data": {
      "text/plain": [
       "<matplotlib.axes._subplots.AxesSubplot at 0x7fbe0e99ca10>"
      ]
     },
     "execution_count": 63,
     "metadata": {
      "tags": []
     },
     "output_type": "execute_result"
    },
    {
     "data": {
      "image/png": "[encoded data removed]",
      "text/plain": [
       "<Figure size 720x504 with 1 Axes>"
      ]
     },
     "metadata": {
      "needs_background": "light",
      "tags": []
     },
     "output_type": "display_data"
    }
   ],
   "source": [
    "# Check the history\n",
    "pd.DataFrame(history_1.history).plot(figsize=(10, 7), xlabel=\"epochs\")"
   ]
  },
  {
   "cell_type": "code",
   "execution_count": 64,
   "metadata": {
    "colab": {
     "base_uri": "https://localhost:8080/",
     "height": 479
    },
    "id": "Cxao7ZauC14d",
    "outputId": "f4e27ebb-9078-4242-deff-e1bb21e6906c"
   },
   "outputs": [
    {
     "data": {
      "text/plain": [
       "Text(0.5, 1.0, 'Learning rate vs Loss')"
      ]
     },
     "execution_count": 64,
     "metadata": {
      "tags": []
     },
     "output_type": "execute_result"
    },
    {
     "data": {
      "image/png": "[encoded data removed]",
      "text/plain": [
       "<Figure size 720x504 with 1 Axes>"
      ]
     },
     "metadata": {
      "needs_background": "light",
      "tags": []
     },
     "output_type": "display_data"
    }
   ],
   "source": [
    "# Plot the learning rate versus the loss\n",
    "lrs = 1e-4 * (10 ** (tf.range(80)/10))\n",
    "plt.figure(figsize=(10,7))\n",
    "plt.semilogx(lrs, history_1.history[\"loss\"])\n",
    "plt.xlabel(\"Learning Rate\")\n",
    "plt.ylabel(\"Loss\")\n",
    "plt.title(\"Learning rate vs Loss\")"
   ]
  },
  {
   "cell_type": "code",
   "execution_count": null,
   "metadata": {
    "id": "AyAwjE7dDcfq"
   },
   "outputs": [],
   "source": [
    ""
   ]
  },
  {
   "cell_type": "markdown",
   "metadata": {
    "id": "VJh_oZiJD6Cr"
   },
   "source": [
    "# Let's Build our Final Model with our Learning rate"
   ]
  },
  {
   "cell_type": "code",
   "execution_count": 65,
   "metadata": {
    "colab": {
     "base_uri": "https://localhost:8080/"
    },
    "id": "m_NHxXwdD7Qa",
    "outputId": "4eb221a4-87da-49bd-c595-c5dc3202ca89"
   },
   "outputs": [
    {
     "name": "stdout",
     "output_type": "stream",
     "text": [
      "Epoch 1/12\n",
      "667/667 [==============================] - 1s 1ms/step - loss: 0.3741 - accuracy: 0.8301 - val_loss: 0.3647 - val_accuracy: 0.8400\n",
      "Epoch 2/12\n",
      "667/667 [==============================] - 1s 1ms/step - loss: 0.3500 - accuracy: 0.8451 - val_loss: 0.3634 - val_accuracy: 0.8470\n",
      "Epoch 3/12\n",
      "667/667 [==============================] - 1s 1ms/step - loss: 0.3479 - accuracy: 0.8406 - val_loss: 0.3621 - val_accuracy: 0.8350\n",
      "Epoch 4/12\n",
      "667/667 [==============================] - 1s 1ms/step - loss: 0.3421 - accuracy: 0.8436 - val_loss: 0.3537 - val_accuracy: 0.8445\n",
      "Epoch 5/12\n",
      "667/667 [==============================] - 1s 1ms/step - loss: 0.3403 - accuracy: 0.8441 - val_loss: 0.3825 - val_accuracy: 0.8355\n",
      "Epoch 6/12\n",
      "667/667 [==============================] - 1s 1ms/step - loss: 0.3357 - accuracy: 0.8471 - val_loss: 0.3527 - val_accuracy: 0.8450\n",
      "Epoch 7/12\n",
      "667/667 [==============================] - 1s 1ms/step - loss: 0.3330 - accuracy: 0.8457 - val_loss: 0.3480 - val_accuracy: 0.8435\n",
      "Epoch 8/12\n",
      "667/667 [==============================] - 1s 1ms/step - loss: 0.3308 - accuracy: 0.8485 - val_loss: 0.3457 - val_accuracy: 0.8400\n",
      "Epoch 9/12\n",
      "667/667 [==============================] - 1s 1ms/step - loss: 0.3297 - accuracy: 0.8485 - val_loss: 0.3464 - val_accuracy: 0.8440\n",
      "Epoch 10/12\n",
      "667/667 [==============================] - 1s 1ms/step - loss: 0.3269 - accuracy: 0.8522 - val_loss: 0.3464 - val_accuracy: 0.8365\n",
      "Epoch 11/12\n",
      "667/667 [==============================] - 1s 1ms/step - loss: 0.3274 - accuracy: 0.8481 - val_loss: 0.3483 - val_accuracy: 0.8430\n",
      "Epoch 12/12\n",
      "667/667 [==============================] - 1s 1ms/step - loss: 0.3266 - accuracy: 0.8534 - val_loss: 0.3463 - val_accuracy: 0.8410\n"
     ]
    }
   ],
   "source": [
    "#  Let's try using a higher ideal learning rate with the same model as before\n",
    "\n",
    "# Set random seed\n",
    "tf.random.set_seed(42)\n",
    "\n",
    "# 1. Create a model \n",
    "model_2 = tf.keras.Sequential([\n",
    "    tf.keras.layers.Dense(10, activation='relu'),\n",
    "    tf.keras.layers.Dense(8, activation='relu'),\n",
    "    tf.keras.layers.Dense(1, activation='sigmoid')\n",
    "])\n",
    "\n",
    "# 2. Compile the model\n",
    "model_2.compile(loss=tf.keras.losses.BinaryCrossentropy(),\n",
    "              optimizer = tf.keras.optimizers.Adam(lr=0.01),\n",
    "              metrics=['accuracy'])\n",
    "\n",
    "# 3. Fit the model\n",
    "history_2 = model_2.fit(X_train, y_train, \n",
    "                      validation_data = (X_test, y_test) ,\n",
    "                      batch_size = 12,\n",
    "                      epochs= 12)"
   ]
  },
  {
   "cell_type": "code",
   "execution_count": 66,
   "metadata": {
    "colab": {
     "base_uri": "https://localhost:8080/"
    },
    "id": "NyZF4zoWEtht",
    "outputId": "6f3dda84-e042-44fd-d37b-49f2f4db48f7"
   },
   "outputs": [
    {
     "name": "stdout",
     "output_type": "stream",
     "text": [
      "63/63 [==============================] - 0s 739us/step - loss: 0.3463 - accuracy: 0.8410\n"
     ]
    },
    {
     "data": {
      "text/plain": [
       "[0.3462928235530853, 0.8410000205039978]"
      ]
     },
     "execution_count": 66,
     "metadata": {
      "tags": []
     },
     "output_type": "execute_result"
    }
   ],
   "source": [
    "# Evaluate model 2 on the test dataset\n",
    "model_2.evaluate(X_test, y_test)"
   ]
  },
  {
   "cell_type": "code",
   "execution_count": 67,
   "metadata": {
    "colab": {
     "base_uri": "https://localhost:8080/",
     "height": 459
    },
    "id": "aKrK-TjFEyy7",
    "outputId": "833c5229-df6e-4f1f-a3aa-836bddbebee2"
   },
   "outputs": [
    {
     "data": {
      "text/plain": [
       "<matplotlib.axes._subplots.AxesSubplot at 0x7fbe0fb68150>"
      ]
     },
     "execution_count": 67,
     "metadata": {
      "tags": []
     },
     "output_type": "execute_result"
    },
    {
     "data": {
      "image/png": "[encoded data removed]",
      "text/plain": [
       "<Figure size 720x504 with 1 Axes>"
      ]
     },
     "metadata": {
      "needs_background": "light",
      "tags": []
     },
     "output_type": "display_data"
    }
   ],
   "source": [
    "# Check the history\n",
    "pd.DataFrame(history_2.history).plot(figsize=(10, 7), xlabel=\"epochs\")"
   ]
  },
  {
   "cell_type": "code",
   "execution_count": 68,
   "metadata": {
    "colab": {
     "base_uri": "https://localhost:8080/"
    },
    "id": "DCyntw3TE3yn",
    "outputId": "0e93e8e0-bc52-4102-c391-dcec8b5e9ddb"
   },
   "outputs": [
    {
     "data": {
      "text/plain": [
       "array([[1225,  142],\n",
       "       [ 176,  457]])"
      ]
     },
     "execution_count": 68,
     "metadata": {
      "tags": []
     },
     "output_type": "execute_result"
    }
   ],
   "source": [
    "# Create a confusion matrix\n",
    "from sklearn.metrics import confusion_matrix\n",
    "\n",
    "# Make prediction\n",
    "y_preds = model_2.predict(X_test)\n",
    "\n",
    "# Create confusion matrix\n",
    "confusion_matrix(y_test, tf.round(y_preds))"
   ]
  },
  {
   "cell_type": "code",
   "execution_count": 69,
   "metadata": {
    "colab": {
     "base_uri": "https://localhost:8080/"
    },
    "id": "R1hBuoFbE9Ie",
    "outputId": "9f289654-7896-4acc-d351-0c73748b6c73"
   },
   "outputs": [
    {
     "name": "stdout",
     "output_type": "stream",
     "text": [
      "              precision    recall  f1-score   support\n",
      "\n",
      "           0       0.87      0.90      0.89      1367\n",
      "           1       0.76      0.72      0.74       633\n",
      "\n",
      "    accuracy                           0.84      2000\n",
      "   macro avg       0.82      0.81      0.81      2000\n",
      "weighted avg       0.84      0.84      0.84      2000\n",
      "\n"
     ]
    }
   ],
   "source": [
    "# clssification report \n",
    "from sklearn.metrics import classification_report\n",
    "print(classification_report(y_test, tf.round(y_preds)))"
   ]
  },
  {
   "cell_type": "code",
   "execution_count": 70,
   "metadata": {
    "colab": {
     "base_uri": "https://localhost:8080/"
    },
    "id": "LSBXo9eSFAiS",
    "outputId": "f6c3e863-17c6-420b-89db-aa738f038c5c"
   },
   "outputs": [
    {
     "data": {
      "text/plain": [
       "0.7418831168831168"
      ]
     },
     "execution_count": 70,
     "metadata": {
      "tags": []
     },
     "output_type": "execute_result"
    }
   ],
   "source": [
    "# F1 Score\n",
    "from sklearn.metrics import f1_score\n",
    "f1_score(y_test, tf.round(y_preds))"
   ]
  },
  {
   "cell_type": "code",
   "execution_count": 71,
   "metadata": {
    "colab": {
     "base_uri": "https://localhost:8080/",
     "height": 295
    },
    "id": "2MYdxmCtFE46",
    "outputId": "34c8aeb4-3bc8-4c46-bdbe-854346c509b9"
   },
   "outputs": [
    {
     "data": {
      "image/png": "[encoded data removed]",
      "text/plain": [
       "<Figure size 432x288 with 1 Axes>"
      ]
     },
     "metadata": {
      "needs_background": "light",
      "tags": []
     },
     "output_type": "display_data"
    }
   ],
   "source": [
    "# ploating model accuracy\n",
    "plt.plot(history_2.history['val_accuracy'])\n",
    "\n",
    "plt.title(\"model accuracy\")\n",
    "\n",
    "plt.ylabel('accuracy')\n",
    "plt.xlabel(\"epoch\")\n",
    "plt.legend(['train'], loc='upper left')\n",
    "\n",
    "plt.show()"
   ]
  },
  {
   "cell_type": "code",
   "execution_count": 72,
   "metadata": {
    "colab": {
     "base_uri": "https://localhost:8080/",
     "height": 295
    },
    "id": "JphWR49kFJks",
    "outputId": "b95f48da-6473-4505-a560-e8459eaa1329"
   },
   "outputs": [
    {
     "data": {
      "image/png": "[encoded data removed]",
      "text/plain": [
       "<Figure size 432x288 with 1 Axes>"
      ]
     },
     "metadata": {
      "needs_background": "light",
      "tags": []
     },
     "output_type": "display_data"
    }
   ],
   "source": [
    "# ploating model loss\n",
    "plt.plot(history_2.history['val_loss'])\n",
    "\n",
    "plt.title(\"model loss\")\n",
    "\n",
    "plt.ylabel('loss')\n",
    "plt.xlabel(\"epoch\")\n",
    "plt.legend(['train'],loc='upper left')\n",
    "\n",
    "plt.show()"
   ]
  },
  {
   "cell_type": "code",
   "execution_count": null,
   "metadata": {
    "id": "xxUTu_pNFPWY"
   },
   "outputs": [],
   "source": [
    ""
   ]
  }
 ],
 "metadata": {
  "colab": {
   "collapsed_sections": [],
   "name": " Car_Insurance.ipynb",
   "provenance": []
  },
  "kernelspec": {
   "display_name": "Python 3",
   "name": "python3"
  },
  "language_info": {
   "name": "python"
  }
 },
 "nbformat": 4,
 "nbformat_minor": 0
}
